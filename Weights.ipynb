{
 "cells": [
  {
   "cell_type": "code",
   "execution_count": null,
   "metadata": {},
   "outputs": [],
   "source": [
    "#Strategy 1\n",
    "\n",
    "r_fore = r.iloc[-n_forecast:, :]\n",
    "r_eq_wt = np.mean(r_fore, axis=1)\n",
    "mn_eq_wt = np.mean(r_eq_wt)\n",
    "sd_eq_wt = np.std(r_eq_wt, ddof=1)\n",
    "print(mn_eq_wt)\n",
    "print(sd_eq_wt)"
   ]
  },
  {
   "cell_type": "code",
   "execution_count": null,
   "metadata": {},
   "outputs": [],
   "source": [
    "#Strategy 3\n",
    "\n",
    "std22 = np.empty((n_forecast, 3))\n",
    "for i in range(n_forecast):\n",
    "    std22[i,;]=np.std(r,iloc[(2000+i-22):(2000+i)],axis=0,ddof=1)\n",
    "\n",
    "t1 = 1 / std22\n",
    "t2 = np.sum(t1, axis=1)\n",
    "w = t1 / t2.reshape(-1,1)\n",
    "r_invp_ret = np.sum(r_fore.values * w, axis = 1)\n",
    "\n",
    "mn_invp_ret = np.mean(r_invp_ret, axis=0)\n",
    "sd_invp_ret = np.std(r_invp_ret, axis=0, ddof=1)\n",
    "print(mn_invp_ret)\n",
    "print(sd_invp_ret)"
   ]
  },
  {
   "cell_type": "code",
   "execution_count": null,
   "metadata": {},
   "outputs": [],
   "source": [
    "#Strategy 2\n",
    "\n",
    "f_all = np.empty((n_forecast, 5, 3))\n",
    "f_all[:, :, 0] = f_TLS\n",
    "f_all[:, :, 1] = f_WES\n",
    "f_all[:, :, 2] = f_CPU\n",
    "\n",
    "r_prop_ret = np.empty((n_forecast, 5))\n",
    "w = np.empty((n_forecast, 3))\n",
    "for i in range(5):\n",
    "    r_sum = np.sum(f_all[:, i, :], axis=1)\n",
    "    w = f_all[:, i, :] / r_sum.reshape(-1, 1)\n",
    "    r_prop_ret[:, i] = np.sum(r_fore.values * w, axis=1)\n",
    "mn_prop_ret = np.mean(r_prop_ret, axis=0)\n",
    "sd_prop_ret = np.std(r_prop_ret, axis=0, ddof=1)\n",
    "print(mn_prop_ret)\n",
    "print(sd_prop_ret)"
   ]
  },
  {
   "cell_type": "code",
   "execution_count": null,
   "metadata": {},
   "outputs": [],
   "source": [
    "p_mn = np.hstack((mn_eq_wt, mn_prop_ret, mn_invp_ret))\n",
    "p_sd = np.hstack((sd_eq_wt, sd_prop_ret, sd_invp_ret))\n",
    "tbl_port=pd.DataFrame(np.vstack((p_mn,p_sd)), index = ('mean return', 'standard deviation'),\n",
    "                                              columns = ('Equal Weight', 'FR_Naive','FR_15days','FR_ARMA11','FR_Reg','FR_FM','Inversely SD'))\n",
    "tbl_port.loc['mean/sd',:]=tbl_port.loc['mean return']/tbl_port.loc['standard deviation']\n",
    "tbl_port "
   ]
  },
  {
   "cell_type": "code",
   "execution_count": null,
   "metadata": {},
   "outputs": [],
   "source": [
    "pd.DataFrame.max(tbl_port.iloc[[0,2]:],axis=1)\n",
    "pd.DataFrame.min(tbl.port.iloc[1,:])"
   ]
  }
 ],
 "metadata": {
  "kernelspec": {
   "display_name": "Python 3",
   "language": "python",
   "name": "python3"
  },
  "language_info": {
   "codemirror_mode": {
    "name": "ipython",
    "version": 3
   },
   "file_extension": ".py",
   "mimetype": "text/x-python",
   "name": "python",
   "nbconvert_exporter": "python",
   "pygments_lexer": "ipython3",
   "version": "3.8.5"
  }
 },
 "nbformat": 4,
 "nbformat_minor": 4
}

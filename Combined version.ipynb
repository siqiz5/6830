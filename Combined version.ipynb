{
 "cells": [
  {
   "cell_type": "markdown",
   "metadata": {},
   "source": [
    "#### a) Importing libraries"
   ]
  },
  {
   "cell_type": "code",
   "execution_count": 2,
   "metadata": {},
   "outputs": [],
   "source": [
    "import pandas as pd\n",
    "import numpy as np\n",
    "import matplotlib.pyplot as plt\n",
    "import statsmodels.api as sm\n",
    "from mpl_toolkits.mplot3d import Axes3D\n",
    "from scipy import stats\n",
    "from scipy.stats import norm\n",
    "from datetime import datetime\n",
    "from statsmodels.stats.stattools import jarque_bera\n",
    "from statsmodels.multivariate.pca import PCA\n",
    "from statsmodels.multivariate.factor import Factor\n",
    "from statsmodels.multivariate.factor_rotation import rotate_factors\n",
    "from statsmodels.tsa.arima.model import ARIMA"
   ]
  },
  {
   "cell_type": "markdown",
   "metadata": {},
   "source": [
    "#### b) Importing data"
   ]
  },
  {
   "cell_type": "code",
   "execution_count": 3,
   "metadata": {},
   "outputs": [],
   "source": [
    "#Importing data \n",
    "data = pd.read_csv('my_group_data copy.csv', index_col='Date', parse_dates=True, dayfirst=True)"
   ]
  },
  {
   "cell_type": "markdown",
   "metadata": {},
   "source": [
    "#### c) Inspecting data"
   ]
  },
  {
   "cell_type": "code",
   "execution_count": 4,
   "metadata": {
    "scrolled": true
   },
   "outputs": [
    {
     "name": "stdout",
     "output_type": "stream",
     "text": [
      "<class 'pandas.core.frame.DataFrame'>\n",
      "DatetimeIndex: 2532 entries, 2011-09-26 to 2021-09-24\n",
      "Data columns (total 8 columns):\n",
      " #   Column  Non-Null Count  Dtype  \n",
      "---  ------  --------------  -----  \n",
      " 0   RIO.AX  2532 non-null   float64\n",
      " 1   TLS.AX  2532 non-null   float64\n",
      " 2   WES.AX  2532 non-null   float64\n",
      " 3   CPU.AX  2532 non-null   float64\n",
      " 4   SEK.AX  2532 non-null   float64\n",
      " 5   WOW.AX  2532 non-null   float64\n",
      " 6   CBA.AX  2532 non-null   float64\n",
      " 7   WBC.AX  2532 non-null   float64\n",
      "dtypes: float64(8)\n",
      "memory usage: 178.0 KB\n"
     ]
    }
   ],
   "source": [
    "data.info()"
   ]
  },
  {
   "cell_type": "markdown",
   "metadata": {},
   "source": [
    "CPU, CBA and WBC series contained missing values as stocks haven't been trading (Trading Volume=0) on some few days over the past years. Therefore, we decided to proceed via imputation to resolve the issue.\n",
    "Precisely, the missing values have been imputed with the last available adjusted closing price of the respective stock.\n",
    "\n",
    "The reason for the choice is that past day prices are a good proxy and that on the secific day no market events could have happen to chnage the price.\n",
    "\n",
    "Also, we decided not to proceed with the dropping of entire observations as the remaining stocks could have experience particular price behaviours on those specific days. Thus, potentially leading to the distortion of the analysis."
   ]
  },
  {
   "cell_type": "code",
   "execution_count": 5,
   "metadata": {},
   "outputs": [
    {
     "data": {
      "text/html": [
       "<div>\n",
       "<style scoped>\n",
       "    .dataframe tbody tr th:only-of-type {\n",
       "        vertical-align: middle;\n",
       "    }\n",
       "\n",
       "    .dataframe tbody tr th {\n",
       "        vertical-align: top;\n",
       "    }\n",
       "\n",
       "    .dataframe thead th {\n",
       "        text-align: right;\n",
       "    }\n",
       "</style>\n",
       "<table border=\"1\" class=\"dataframe\">\n",
       "  <thead>\n",
       "    <tr style=\"text-align: right;\">\n",
       "      <th></th>\n",
       "      <th>RIO.AX</th>\n",
       "      <th>TLS.AX</th>\n",
       "      <th>WES.AX</th>\n",
       "      <th>CPU.AX</th>\n",
       "      <th>SEK.AX</th>\n",
       "      <th>WOW.AX</th>\n",
       "      <th>CBA.AX</th>\n",
       "      <th>WBC.AX</th>\n",
       "    </tr>\n",
       "    <tr>\n",
       "      <th>Date</th>\n",
       "      <th></th>\n",
       "      <th></th>\n",
       "      <th></th>\n",
       "      <th></th>\n",
       "      <th></th>\n",
       "      <th></th>\n",
       "      <th></th>\n",
       "      <th></th>\n",
       "    </tr>\n",
       "  </thead>\n",
       "  <tbody>\n",
       "    <tr>\n",
       "      <th>2011-09-26</th>\n",
       "      <td>39.712032</td>\n",
       "      <td>1.942921</td>\n",
       "      <td>12.923607</td>\n",
       "      <td>5.573087</td>\n",
       "      <td>3.980642</td>\n",
       "      <td>17.424408</td>\n",
       "      <td>26.109711</td>\n",
       "      <td>11.411721</td>\n",
       "    </tr>\n",
       "    <tr>\n",
       "      <th>2011-09-27</th>\n",
       "      <td>41.836163</td>\n",
       "      <td>1.955703</td>\n",
       "      <td>13.381684</td>\n",
       "      <td>5.678382</td>\n",
       "      <td>4.223364</td>\n",
       "      <td>17.522896</td>\n",
       "      <td>27.121952</td>\n",
       "      <td>12.042071</td>\n",
       "    </tr>\n",
       "    <tr>\n",
       "      <th>2011-09-28</th>\n",
       "      <td>42.251755</td>\n",
       "      <td>1.974877</td>\n",
       "      <td>13.521650</td>\n",
       "      <td>5.731029</td>\n",
       "      <td>4.304272</td>\n",
       "      <td>17.642477</td>\n",
       "      <td>27.092180</td>\n",
       "      <td>12.279938</td>\n",
       "    </tr>\n",
       "    <tr>\n",
       "      <th>2011-09-29</th>\n",
       "      <td>41.196289</td>\n",
       "      <td>1.974877</td>\n",
       "      <td>13.428337</td>\n",
       "      <td>5.685903</td>\n",
       "      <td>4.263817</td>\n",
       "      <td>17.586203</td>\n",
       "      <td>27.098141</td>\n",
       "      <td>12.220470</td>\n",
       "    </tr>\n",
       "    <tr>\n",
       "      <th>2011-09-30</th>\n",
       "      <td>40.767490</td>\n",
       "      <td>1.981268</td>\n",
       "      <td>13.398647</td>\n",
       "      <td>5.618213</td>\n",
       "      <td>4.304272</td>\n",
       "      <td>17.487720</td>\n",
       "      <td>27.121952</td>\n",
       "      <td>12.095592</td>\n",
       "    </tr>\n",
       "  </tbody>\n",
       "</table>\n",
       "</div>"
      ],
      "text/plain": [
       "               RIO.AX    TLS.AX     WES.AX    CPU.AX    SEK.AX     WOW.AX  \\\n",
       "Date                                                                        \n",
       "2011-09-26  39.712032  1.942921  12.923607  5.573087  3.980642  17.424408   \n",
       "2011-09-27  41.836163  1.955703  13.381684  5.678382  4.223364  17.522896   \n",
       "2011-09-28  42.251755  1.974877  13.521650  5.731029  4.304272  17.642477   \n",
       "2011-09-29  41.196289  1.974877  13.428337  5.685903  4.263817  17.586203   \n",
       "2011-09-30  40.767490  1.981268  13.398647  5.618213  4.304272  17.487720   \n",
       "\n",
       "               CBA.AX     WBC.AX  \n",
       "Date                              \n",
       "2011-09-26  26.109711  11.411721  \n",
       "2011-09-27  27.121952  12.042071  \n",
       "2011-09-28  27.092180  12.279938  \n",
       "2011-09-29  27.098141  12.220470  \n",
       "2011-09-30  27.121952  12.095592  "
      ]
     },
     "execution_count": 5,
     "metadata": {},
     "output_type": "execute_result"
    }
   ],
   "source": [
    "data.head()"
   ]
  },
  {
   "cell_type": "code",
   "execution_count": 6,
   "metadata": {},
   "outputs": [
    {
     "data": {
      "text/html": [
       "<div>\n",
       "<style scoped>\n",
       "    .dataframe tbody tr th:only-of-type {\n",
       "        vertical-align: middle;\n",
       "    }\n",
       "\n",
       "    .dataframe tbody tr th {\n",
       "        vertical-align: top;\n",
       "    }\n",
       "\n",
       "    .dataframe thead th {\n",
       "        text-align: right;\n",
       "    }\n",
       "</style>\n",
       "<table border=\"1\" class=\"dataframe\">\n",
       "  <thead>\n",
       "    <tr style=\"text-align: right;\">\n",
       "      <th></th>\n",
       "      <th>RIO.AX</th>\n",
       "      <th>TLS.AX</th>\n",
       "      <th>WES.AX</th>\n",
       "      <th>CPU.AX</th>\n",
       "      <th>SEK.AX</th>\n",
       "      <th>WOW.AX</th>\n",
       "      <th>CBA.AX</th>\n",
       "      <th>WBC.AX</th>\n",
       "    </tr>\n",
       "    <tr>\n",
       "      <th>Date</th>\n",
       "      <th></th>\n",
       "      <th></th>\n",
       "      <th></th>\n",
       "      <th></th>\n",
       "      <th></th>\n",
       "      <th></th>\n",
       "      <th></th>\n",
       "      <th></th>\n",
       "    </tr>\n",
       "  </thead>\n",
       "  <tbody>\n",
       "    <tr>\n",
       "      <th>2021-09-20</th>\n",
       "      <td>95.239998</td>\n",
       "      <td>3.88</td>\n",
       "      <td>56.900002</td>\n",
       "      <td>16.280001</td>\n",
       "      <td>29.590000</td>\n",
       "      <td>39.209999</td>\n",
       "      <td>100.809998</td>\n",
       "      <td>25.299999</td>\n",
       "    </tr>\n",
       "    <tr>\n",
       "      <th>2021-09-21</th>\n",
       "      <td>95.709999</td>\n",
       "      <td>3.93</td>\n",
       "      <td>57.389999</td>\n",
       "      <td>16.510000</td>\n",
       "      <td>29.709999</td>\n",
       "      <td>39.360001</td>\n",
       "      <td>100.339996</td>\n",
       "      <td>25.190001</td>\n",
       "    </tr>\n",
       "    <tr>\n",
       "      <th>2021-09-22</th>\n",
       "      <td>98.269997</td>\n",
       "      <td>3.95</td>\n",
       "      <td>57.230000</td>\n",
       "      <td>16.330000</td>\n",
       "      <td>29.860001</td>\n",
       "      <td>39.250000</td>\n",
       "      <td>99.639999</td>\n",
       "      <td>24.910000</td>\n",
       "    </tr>\n",
       "    <tr>\n",
       "      <th>2021-09-23</th>\n",
       "      <td>98.860001</td>\n",
       "      <td>3.98</td>\n",
       "      <td>57.490002</td>\n",
       "      <td>16.930000</td>\n",
       "      <td>30.490000</td>\n",
       "      <td>39.060001</td>\n",
       "      <td>100.800003</td>\n",
       "      <td>25.070000</td>\n",
       "    </tr>\n",
       "    <tr>\n",
       "      <th>2021-09-24</th>\n",
       "      <td>99.330002</td>\n",
       "      <td>3.95</td>\n",
       "      <td>57.360001</td>\n",
       "      <td>17.900000</td>\n",
       "      <td>30.530001</td>\n",
       "      <td>39.290001</td>\n",
       "      <td>101.699997</td>\n",
       "      <td>25.250000</td>\n",
       "    </tr>\n",
       "  </tbody>\n",
       "</table>\n",
       "</div>"
      ],
      "text/plain": [
       "               RIO.AX  TLS.AX     WES.AX     CPU.AX     SEK.AX     WOW.AX  \\\n",
       "Date                                                                        \n",
       "2021-09-20  95.239998    3.88  56.900002  16.280001  29.590000  39.209999   \n",
       "2021-09-21  95.709999    3.93  57.389999  16.510000  29.709999  39.360001   \n",
       "2021-09-22  98.269997    3.95  57.230000  16.330000  29.860001  39.250000   \n",
       "2021-09-23  98.860001    3.98  57.490002  16.930000  30.490000  39.060001   \n",
       "2021-09-24  99.330002    3.95  57.360001  17.900000  30.530001  39.290001   \n",
       "\n",
       "                CBA.AX     WBC.AX  \n",
       "Date                               \n",
       "2021-09-20  100.809998  25.299999  \n",
       "2021-09-21  100.339996  25.190001  \n",
       "2021-09-22   99.639999  24.910000  \n",
       "2021-09-23  100.800003  25.070000  \n",
       "2021-09-24  101.699997  25.250000  "
      ]
     },
     "execution_count": 6,
     "metadata": {},
     "output_type": "execute_result"
    }
   ],
   "source": [
    "data.tail()"
   ]
  },
  {
   "cell_type": "markdown",
   "metadata": {},
   "source": [
    "#### d) Calculating log-returns (%)"
   ]
  },
  {
   "cell_type": "code",
   "execution_count": 7,
   "metadata": {
    "scrolled": false
   },
   "outputs": [
    {
     "data": {
      "text/html": [
       "<div>\n",
       "<style scoped>\n",
       "    .dataframe tbody tr th:only-of-type {\n",
       "        vertical-align: middle;\n",
       "    }\n",
       "\n",
       "    .dataframe tbody tr th {\n",
       "        vertical-align: top;\n",
       "    }\n",
       "\n",
       "    .dataframe thead th {\n",
       "        text-align: right;\n",
       "    }\n",
       "</style>\n",
       "<table border=\"1\" class=\"dataframe\">\n",
       "  <thead>\n",
       "    <tr style=\"text-align: right;\">\n",
       "      <th></th>\n",
       "      <th>RIO.AX</th>\n",
       "      <th>TLS.AX</th>\n",
       "      <th>WES.AX</th>\n",
       "      <th>CPU.AX</th>\n",
       "      <th>SEK.AX</th>\n",
       "      <th>WOW.AX</th>\n",
       "      <th>CBA.AX</th>\n",
       "      <th>WBC.AX</th>\n",
       "    </tr>\n",
       "    <tr>\n",
       "      <th>Date</th>\n",
       "      <th></th>\n",
       "      <th></th>\n",
       "      <th></th>\n",
       "      <th></th>\n",
       "      <th></th>\n",
       "      <th></th>\n",
       "      <th></th>\n",
       "      <th></th>\n",
       "    </tr>\n",
       "  </thead>\n",
       "  <tbody>\n",
       "    <tr>\n",
       "      <th>2011-09-26</th>\n",
       "      <td>NaN</td>\n",
       "      <td>NaN</td>\n",
       "      <td>NaN</td>\n",
       "      <td>NaN</td>\n",
       "      <td>NaN</td>\n",
       "      <td>NaN</td>\n",
       "      <td>NaN</td>\n",
       "      <td>NaN</td>\n",
       "    </tr>\n",
       "    <tr>\n",
       "      <th>2011-09-27</th>\n",
       "      <td>5.210688</td>\n",
       "      <td>0.655750</td>\n",
       "      <td>3.483130</td>\n",
       "      <td>1.871724</td>\n",
       "      <td>5.918904</td>\n",
       "      <td>0.563638</td>\n",
       "      <td>3.803614</td>\n",
       "      <td>5.376546</td>\n",
       "    </tr>\n",
       "    <tr>\n",
       "      <th>2011-09-28</th>\n",
       "      <td>0.988479</td>\n",
       "      <td>0.975614</td>\n",
       "      <td>1.040520</td>\n",
       "      <td>0.922870</td>\n",
       "      <td>1.897590</td>\n",
       "      <td>0.680110</td>\n",
       "      <td>-0.109830</td>\n",
       "      <td>1.956039</td>\n",
       "    </tr>\n",
       "    <tr>\n",
       "      <th>2011-09-29</th>\n",
       "      <td>-2.529770</td>\n",
       "      <td>0.000000</td>\n",
       "      <td>-0.692494</td>\n",
       "      <td>-0.790514</td>\n",
       "      <td>-0.944311</td>\n",
       "      <td>-0.319481</td>\n",
       "      <td>0.021998</td>\n",
       "      <td>-0.485440</td>\n",
       "    </tr>\n",
       "    <tr>\n",
       "      <th>2011-09-30</th>\n",
       "      <td>-1.046322</td>\n",
       "      <td>0.323089</td>\n",
       "      <td>-0.221343</td>\n",
       "      <td>-1.197638</td>\n",
       "      <td>0.944311</td>\n",
       "      <td>-0.561570</td>\n",
       "      <td>0.087832</td>\n",
       "      <td>-1.027140</td>\n",
       "    </tr>\n",
       "    <tr>\n",
       "      <th>...</th>\n",
       "      <td>...</td>\n",
       "      <td>...</td>\n",
       "      <td>...</td>\n",
       "      <td>...</td>\n",
       "      <td>...</td>\n",
       "      <td>...</td>\n",
       "      <td>...</td>\n",
       "      <td>...</td>\n",
       "    </tr>\n",
       "    <tr>\n",
       "      <th>2021-09-20</th>\n",
       "      <td>-3.669764</td>\n",
       "      <td>-1.025649</td>\n",
       "      <td>-0.665613</td>\n",
       "      <td>-2.247279</td>\n",
       "      <td>-3.421695</td>\n",
       "      <td>-0.458017</td>\n",
       "      <td>-2.032570</td>\n",
       "      <td>-2.266607</td>\n",
       "    </tr>\n",
       "    <tr>\n",
       "      <th>2021-09-21</th>\n",
       "      <td>0.492278</td>\n",
       "      <td>1.280426</td>\n",
       "      <td>0.857469</td>\n",
       "      <td>1.402887</td>\n",
       "      <td>0.404719</td>\n",
       "      <td>0.381829</td>\n",
       "      <td>-0.467315</td>\n",
       "      <td>-0.435725</td>\n",
       "    </tr>\n",
       "    <tr>\n",
       "      <th>2021-09-22</th>\n",
       "      <td>2.639598</td>\n",
       "      <td>0.507615</td>\n",
       "      <td>-0.279183</td>\n",
       "      <td>-1.096237</td>\n",
       "      <td>0.503615</td>\n",
       "      <td>-0.279864</td>\n",
       "      <td>-0.700070</td>\n",
       "      <td>-1.117779</td>\n",
       "    </tr>\n",
       "    <tr>\n",
       "      <th>2021-09-23</th>\n",
       "      <td>0.598596</td>\n",
       "      <td>0.756623</td>\n",
       "      <td>0.453282</td>\n",
       "      <td>3.608331</td>\n",
       "      <td>2.087894</td>\n",
       "      <td>-0.485248</td>\n",
       "      <td>1.157470</td>\n",
       "      <td>0.640258</td>\n",
       "    </tr>\n",
       "    <tr>\n",
       "      <th>2021-09-24</th>\n",
       "      <td>0.474294</td>\n",
       "      <td>-0.756623</td>\n",
       "      <td>-0.226384</td>\n",
       "      <td>5.571348</td>\n",
       "      <td>0.131108</td>\n",
       "      <td>0.587110</td>\n",
       "      <td>0.888889</td>\n",
       "      <td>0.715426</td>\n",
       "    </tr>\n",
       "  </tbody>\n",
       "</table>\n",
       "<p>2532 rows × 8 columns</p>\n",
       "</div>"
      ],
      "text/plain": [
       "              RIO.AX    TLS.AX    WES.AX    CPU.AX    SEK.AX    WOW.AX  \\\n",
       "Date                                                                     \n",
       "2011-09-26       NaN       NaN       NaN       NaN       NaN       NaN   \n",
       "2011-09-27  5.210688  0.655750  3.483130  1.871724  5.918904  0.563638   \n",
       "2011-09-28  0.988479  0.975614  1.040520  0.922870  1.897590  0.680110   \n",
       "2011-09-29 -2.529770  0.000000 -0.692494 -0.790514 -0.944311 -0.319481   \n",
       "2011-09-30 -1.046322  0.323089 -0.221343 -1.197638  0.944311 -0.561570   \n",
       "...              ...       ...       ...       ...       ...       ...   \n",
       "2021-09-20 -3.669764 -1.025649 -0.665613 -2.247279 -3.421695 -0.458017   \n",
       "2021-09-21  0.492278  1.280426  0.857469  1.402887  0.404719  0.381829   \n",
       "2021-09-22  2.639598  0.507615 -0.279183 -1.096237  0.503615 -0.279864   \n",
       "2021-09-23  0.598596  0.756623  0.453282  3.608331  2.087894 -0.485248   \n",
       "2021-09-24  0.474294 -0.756623 -0.226384  5.571348  0.131108  0.587110   \n",
       "\n",
       "              CBA.AX    WBC.AX  \n",
       "Date                            \n",
       "2011-09-26       NaN       NaN  \n",
       "2011-09-27  3.803614  5.376546  \n",
       "2011-09-28 -0.109830  1.956039  \n",
       "2011-09-29  0.021998 -0.485440  \n",
       "2011-09-30  0.087832 -1.027140  \n",
       "...              ...       ...  \n",
       "2021-09-20 -2.032570 -2.266607  \n",
       "2021-09-21 -0.467315 -0.435725  \n",
       "2021-09-22 -0.700070 -1.117779  \n",
       "2021-09-23  1.157470  0.640258  \n",
       "2021-09-24  0.888889  0.715426  \n",
       "\n",
       "[2532 rows x 8 columns]"
      ]
     },
     "execution_count": 7,
     "metadata": {},
     "output_type": "execute_result"
    }
   ],
   "source": [
    "x = np.log(data).diff() * 100\n",
    "x"
   ]
  },
  {
   "cell_type": "code",
   "execution_count": 8,
   "metadata": {},
   "outputs": [
    {
     "data": {
      "text/html": [
       "<div>\n",
       "<style scoped>\n",
       "    .dataframe tbody tr th:only-of-type {\n",
       "        vertical-align: middle;\n",
       "    }\n",
       "\n",
       "    .dataframe tbody tr th {\n",
       "        vertical-align: top;\n",
       "    }\n",
       "\n",
       "    .dataframe thead th {\n",
       "        text-align: right;\n",
       "    }\n",
       "</style>\n",
       "<table border=\"1\" class=\"dataframe\">\n",
       "  <thead>\n",
       "    <tr style=\"text-align: right;\">\n",
       "      <th></th>\n",
       "      <th>RIO.AX</th>\n",
       "      <th>TLS.AX</th>\n",
       "      <th>WES.AX</th>\n",
       "      <th>CPU.AX</th>\n",
       "      <th>SEK.AX</th>\n",
       "      <th>WOW.AX</th>\n",
       "      <th>CBA.AX</th>\n",
       "      <th>WBC.AX</th>\n",
       "    </tr>\n",
       "    <tr>\n",
       "      <th>Date</th>\n",
       "      <th></th>\n",
       "      <th></th>\n",
       "      <th></th>\n",
       "      <th></th>\n",
       "      <th></th>\n",
       "      <th></th>\n",
       "      <th></th>\n",
       "      <th></th>\n",
       "    </tr>\n",
       "  </thead>\n",
       "  <tbody>\n",
       "    <tr>\n",
       "      <th>2011-09-27</th>\n",
       "      <td>5.210688</td>\n",
       "      <td>0.655750</td>\n",
       "      <td>3.483130</td>\n",
       "      <td>1.871724</td>\n",
       "      <td>5.918904</td>\n",
       "      <td>0.563638</td>\n",
       "      <td>3.803614</td>\n",
       "      <td>5.376546</td>\n",
       "    </tr>\n",
       "    <tr>\n",
       "      <th>2011-09-28</th>\n",
       "      <td>0.988479</td>\n",
       "      <td>0.975614</td>\n",
       "      <td>1.040520</td>\n",
       "      <td>0.922870</td>\n",
       "      <td>1.897590</td>\n",
       "      <td>0.680110</td>\n",
       "      <td>-0.109830</td>\n",
       "      <td>1.956039</td>\n",
       "    </tr>\n",
       "    <tr>\n",
       "      <th>2011-09-29</th>\n",
       "      <td>-2.529770</td>\n",
       "      <td>0.000000</td>\n",
       "      <td>-0.692494</td>\n",
       "      <td>-0.790514</td>\n",
       "      <td>-0.944311</td>\n",
       "      <td>-0.319481</td>\n",
       "      <td>0.021998</td>\n",
       "      <td>-0.485440</td>\n",
       "    </tr>\n",
       "    <tr>\n",
       "      <th>2011-09-30</th>\n",
       "      <td>-1.046322</td>\n",
       "      <td>0.323089</td>\n",
       "      <td>-0.221343</td>\n",
       "      <td>-1.197638</td>\n",
       "      <td>0.944311</td>\n",
       "      <td>-0.561570</td>\n",
       "      <td>0.087832</td>\n",
       "      <td>-1.027140</td>\n",
       "    </tr>\n",
       "    <tr>\n",
       "      <th>2011-10-04</th>\n",
       "      <td>-4.636567</td>\n",
       "      <td>-3.278966</td>\n",
       "      <td>-5.031071</td>\n",
       "      <td>-4.238481</td>\n",
       "      <td>-4.027383</td>\n",
       "      <td>-1.826718</td>\n",
       "      <td>-4.582002</td>\n",
       "      <td>-5.041383</td>\n",
       "    </tr>\n",
       "    <tr>\n",
       "      <th>...</th>\n",
       "      <td>...</td>\n",
       "      <td>...</td>\n",
       "      <td>...</td>\n",
       "      <td>...</td>\n",
       "      <td>...</td>\n",
       "      <td>...</td>\n",
       "      <td>...</td>\n",
       "      <td>...</td>\n",
       "    </tr>\n",
       "    <tr>\n",
       "      <th>2021-09-20</th>\n",
       "      <td>-3.669764</td>\n",
       "      <td>-1.025649</td>\n",
       "      <td>-0.665613</td>\n",
       "      <td>-2.247279</td>\n",
       "      <td>-3.421695</td>\n",
       "      <td>-0.458017</td>\n",
       "      <td>-2.032570</td>\n",
       "      <td>-2.266607</td>\n",
       "    </tr>\n",
       "    <tr>\n",
       "      <th>2021-09-21</th>\n",
       "      <td>0.492278</td>\n",
       "      <td>1.280426</td>\n",
       "      <td>0.857469</td>\n",
       "      <td>1.402887</td>\n",
       "      <td>0.404719</td>\n",
       "      <td>0.381829</td>\n",
       "      <td>-0.467315</td>\n",
       "      <td>-0.435725</td>\n",
       "    </tr>\n",
       "    <tr>\n",
       "      <th>2021-09-22</th>\n",
       "      <td>2.639598</td>\n",
       "      <td>0.507615</td>\n",
       "      <td>-0.279183</td>\n",
       "      <td>-1.096237</td>\n",
       "      <td>0.503615</td>\n",
       "      <td>-0.279864</td>\n",
       "      <td>-0.700070</td>\n",
       "      <td>-1.117779</td>\n",
       "    </tr>\n",
       "    <tr>\n",
       "      <th>2021-09-23</th>\n",
       "      <td>0.598596</td>\n",
       "      <td>0.756623</td>\n",
       "      <td>0.453282</td>\n",
       "      <td>3.608331</td>\n",
       "      <td>2.087894</td>\n",
       "      <td>-0.485248</td>\n",
       "      <td>1.157470</td>\n",
       "      <td>0.640258</td>\n",
       "    </tr>\n",
       "    <tr>\n",
       "      <th>2021-09-24</th>\n",
       "      <td>0.474294</td>\n",
       "      <td>-0.756623</td>\n",
       "      <td>-0.226384</td>\n",
       "      <td>5.571348</td>\n",
       "      <td>0.131108</td>\n",
       "      <td>0.587110</td>\n",
       "      <td>0.888889</td>\n",
       "      <td>0.715426</td>\n",
       "    </tr>\n",
       "  </tbody>\n",
       "</table>\n",
       "<p>2531 rows × 8 columns</p>\n",
       "</div>"
      ],
      "text/plain": [
       "              RIO.AX    TLS.AX    WES.AX    CPU.AX    SEK.AX    WOW.AX  \\\n",
       "Date                                                                     \n",
       "2011-09-27  5.210688  0.655750  3.483130  1.871724  5.918904  0.563638   \n",
       "2011-09-28  0.988479  0.975614  1.040520  0.922870  1.897590  0.680110   \n",
       "2011-09-29 -2.529770  0.000000 -0.692494 -0.790514 -0.944311 -0.319481   \n",
       "2011-09-30 -1.046322  0.323089 -0.221343 -1.197638  0.944311 -0.561570   \n",
       "2011-10-04 -4.636567 -3.278966 -5.031071 -4.238481 -4.027383 -1.826718   \n",
       "...              ...       ...       ...       ...       ...       ...   \n",
       "2021-09-20 -3.669764 -1.025649 -0.665613 -2.247279 -3.421695 -0.458017   \n",
       "2021-09-21  0.492278  1.280426  0.857469  1.402887  0.404719  0.381829   \n",
       "2021-09-22  2.639598  0.507615 -0.279183 -1.096237  0.503615 -0.279864   \n",
       "2021-09-23  0.598596  0.756623  0.453282  3.608331  2.087894 -0.485248   \n",
       "2021-09-24  0.474294 -0.756623 -0.226384  5.571348  0.131108  0.587110   \n",
       "\n",
       "              CBA.AX    WBC.AX  \n",
       "Date                            \n",
       "2011-09-27  3.803614  5.376546  \n",
       "2011-09-28 -0.109830  1.956039  \n",
       "2011-09-29  0.021998 -0.485440  \n",
       "2011-09-30  0.087832 -1.027140  \n",
       "2011-10-04 -4.582002 -5.041383  \n",
       "...              ...       ...  \n",
       "2021-09-20 -2.032570 -2.266607  \n",
       "2021-09-21 -0.467315 -0.435725  \n",
       "2021-09-22 -0.700070 -1.117779  \n",
       "2021-09-23  1.157470  0.640258  \n",
       "2021-09-24  0.888889  0.715426  \n",
       "\n",
       "[2531 rows x 8 columns]"
      ]
     },
     "execution_count": 8,
     "metadata": {},
     "output_type": "execute_result"
    }
   ],
   "source": [
    "# Taking out 1st row because it contains NaN values\n",
    "log_r = x.iloc[1: , :]\n",
    "log_r"
   ]
  },
  {
   "cell_type": "markdown",
   "metadata": {},
   "source": [
    "### Check PCA Feasibility\n"
   ]
  },
  {
   "cell_type": "code",
   "execution_count": 9,
   "metadata": {},
   "outputs": [
    {
     "data": {
      "text/html": [
       "<div>\n",
       "<style scoped>\n",
       "    .dataframe tbody tr th:only-of-type {\n",
       "        vertical-align: middle;\n",
       "    }\n",
       "\n",
       "    .dataframe tbody tr th {\n",
       "        vertical-align: top;\n",
       "    }\n",
       "\n",
       "    .dataframe thead th {\n",
       "        text-align: right;\n",
       "    }\n",
       "</style>\n",
       "<table border=\"1\" class=\"dataframe\">\n",
       "  <thead>\n",
       "    <tr style=\"text-align: right;\">\n",
       "      <th></th>\n",
       "      <th>RIO.AX</th>\n",
       "      <th>TLS.AX</th>\n",
       "      <th>WES.AX</th>\n",
       "      <th>CPU.AX</th>\n",
       "      <th>SEK.AX</th>\n",
       "      <th>WOW.AX</th>\n",
       "      <th>CBA.AX</th>\n",
       "      <th>WBC.AX</th>\n",
       "    </tr>\n",
       "  </thead>\n",
       "  <tbody>\n",
       "    <tr>\n",
       "      <th>RIO.AX</th>\n",
       "      <td>1.0000</td>\n",
       "      <td>-0.2764</td>\n",
       "      <td>0.9430</td>\n",
       "      <td>0.7320</td>\n",
       "      <td>0.8643</td>\n",
       "      <td>0.8773</td>\n",
       "      <td>0.7615</td>\n",
       "      <td>0.1866</td>\n",
       "    </tr>\n",
       "    <tr>\n",
       "      <th>TLS.AX</th>\n",
       "      <td>-0.2764</td>\n",
       "      <td>1.0000</td>\n",
       "      <td>-0.0526</td>\n",
       "      <td>-0.0629</td>\n",
       "      <td>0.1065</td>\n",
       "      <td>-0.0999</td>\n",
       "      <td>0.3222</td>\n",
       "      <td>0.5921</td>\n",
       "    </tr>\n",
       "    <tr>\n",
       "      <th>WES.AX</th>\n",
       "      <td>0.9430</td>\n",
       "      <td>-0.0526</td>\n",
       "      <td>1.0000</td>\n",
       "      <td>0.7195</td>\n",
       "      <td>0.9361</td>\n",
       "      <td>0.8944</td>\n",
       "      <td>0.8710</td>\n",
       "      <td>0.3061</td>\n",
       "    </tr>\n",
       "    <tr>\n",
       "      <th>CPU.AX</th>\n",
       "      <td>0.7320</td>\n",
       "      <td>-0.0629</td>\n",
       "      <td>0.7195</td>\n",
       "      <td>1.0000</td>\n",
       "      <td>0.8255</td>\n",
       "      <td>0.6178</td>\n",
       "      <td>0.7882</td>\n",
       "      <td>0.6253</td>\n",
       "    </tr>\n",
       "    <tr>\n",
       "      <th>SEK.AX</th>\n",
       "      <td>0.8643</td>\n",
       "      <td>0.1065</td>\n",
       "      <td>0.9361</td>\n",
       "      <td>0.8255</td>\n",
       "      <td>1.0000</td>\n",
       "      <td>0.8121</td>\n",
       "      <td>0.9436</td>\n",
       "      <td>0.5441</td>\n",
       "    </tr>\n",
       "    <tr>\n",
       "      <th>WOW.AX</th>\n",
       "      <td>0.8773</td>\n",
       "      <td>-0.0999</td>\n",
       "      <td>0.8944</td>\n",
       "      <td>0.6178</td>\n",
       "      <td>0.8121</td>\n",
       "      <td>1.0000</td>\n",
       "      <td>0.7315</td>\n",
       "      <td>0.2043</td>\n",
       "    </tr>\n",
       "    <tr>\n",
       "      <th>CBA.AX</th>\n",
       "      <td>0.7615</td>\n",
       "      <td>0.3222</td>\n",
       "      <td>0.8710</td>\n",
       "      <td>0.7882</td>\n",
       "      <td>0.9436</td>\n",
       "      <td>0.7315</td>\n",
       "      <td>1.0000</td>\n",
       "      <td>0.7007</td>\n",
       "    </tr>\n",
       "    <tr>\n",
       "      <th>WBC.AX</th>\n",
       "      <td>0.1866</td>\n",
       "      <td>0.5921</td>\n",
       "      <td>0.3061</td>\n",
       "      <td>0.6253</td>\n",
       "      <td>0.5441</td>\n",
       "      <td>0.2043</td>\n",
       "      <td>0.7007</td>\n",
       "      <td>1.0000</td>\n",
       "    </tr>\n",
       "  </tbody>\n",
       "</table>\n",
       "</div>"
      ],
      "text/plain": [
       "        RIO.AX  TLS.AX  WES.AX  CPU.AX  SEK.AX  WOW.AX  CBA.AX  WBC.AX\n",
       "RIO.AX  1.0000 -0.2764  0.9430  0.7320  0.8643  0.8773  0.7615  0.1866\n",
       "TLS.AX -0.2764  1.0000 -0.0526 -0.0629  0.1065 -0.0999  0.3222  0.5921\n",
       "WES.AX  0.9430 -0.0526  1.0000  0.7195  0.9361  0.8944  0.8710  0.3061\n",
       "CPU.AX  0.7320 -0.0629  0.7195  1.0000  0.8255  0.6178  0.7882  0.6253\n",
       "SEK.AX  0.8643  0.1065  0.9361  0.8255  1.0000  0.8121  0.9436  0.5441\n",
       "WOW.AX  0.8773 -0.0999  0.8944  0.6178  0.8121  1.0000  0.7315  0.2043\n",
       "CBA.AX  0.7615  0.3222  0.8710  0.7882  0.9436  0.7315  1.0000  0.7007\n",
       "WBC.AX  0.1866  0.5921  0.3061  0.6253  0.5441  0.2043  0.7007  1.0000"
      ]
     },
     "execution_count": 9,
     "metadata": {},
     "output_type": "execute_result"
    }
   ],
   "source": [
    "corr_matrix = data.corr().round(4)\n",
    "corr_matrix"
   ]
  },
  {
   "cell_type": "markdown",
   "metadata": {},
   "source": [
    "To conduct PCA, thr correlated variables are required, but none of them are perfectly correlated. From the correalation matrix output, all the pairwise correlations are positive and not equal to 0 or 1, which indicates data is fit for PCA."
   ]
  },
  {
   "cell_type": "markdown",
   "metadata": {},
   "source": [
    "## Question 1: Principal Component Analysis (PCA)"
   ]
  },
  {
   "cell_type": "code",
   "execution_count": 10,
   "metadata": {},
   "outputs": [],
   "source": [
    "#PCA Implementation\n",
    "class MyPca:\n",
    "    def __init__(self, log_r):\n",
    "        self.log_r = log_r.values\n",
    "        self.n = self.log_r.shape[0]\n",
    "        self.d = self.log_r.shape[1]\n",
    "        self.mu = np.mean(self.log_r, axis=0)\n",
    "        self.eigval = None\n",
    "        self.weight = None\n",
    "\n",
    "    def fit(self):\n",
    "        c = np.cov(self.log_r.T)\n",
    "        eigval, weight = np.linalg.eig(c)\n",
    "        idx = np.argsort(-eigval)\n",
    "        self.eigval = eigval[idx]\n",
    "        self.weight = weight[:, idx]\n",
    "    \n",
    "    def transform(self, n_comp):\n",
    "        x = self.log_r - np.tile(self.mu, (self.n, 1))\n",
    "        return np.dot(x, self.weight[:, :n_comp])\n",
    "    \n",
    "    def prop_var_explained(self):\n",
    "        return self.eigval / np.sum(self.eigval)\n",
    "    \n",
    "    def biplot2d(self):\n",
    "        ax = plt.axes()\n",
    "        for i in range(self.d):\n",
    "            w = self.weight[i, :]\n",
    "            ax.plot([0, w[0]], [0, w[1]])\n",
    "            ax.scatter(w[0], w[1])\n",
    "        ax.axhline(y=0, color='k', alpha=0.6)\n",
    "        ax.axvline(x=0, color='k', alpha=0.6)\n",
    "        lim = np.max(np.abs(self.weight[:, :2]))\n",
    "        lim = lim + 0.1 * lim\n",
    "        ax.axis([-lim, lim, -lim, lim])\n",
    "        ax.grid(True)\n",
    "        ax.set_xlabel('Component 1')\n",
    "        ax.set_ylabel('Component 2')\n",
    "        return ax\n",
    "    \n",
    "    def biplot3d(self):\n",
    "        ax = plt.axes(projection=\"3d\")\n",
    "        for i in range(self.d):\n",
    "            w = self.weight[i, :]\n",
    "            ax.plot([0, w[0]], [0, w[1]], [0, w[2]])\n",
    "            ax.scatter(w[0], w[1], w[2])\n",
    "        lim = np.max(np.abs(self.weight[:, :3]))\n",
    "        lim = lim + 0.1 * lim\n",
    "        ax.axis([-lim, lim, -lim, lim])\n",
    "        ax.set_zbound(lower=-lim, upper=lim)\n",
    "        ax.plot([-lim, lim], [0, 0], [0, 0], 'k', alpha=0.6)\n",
    "        ax.plot([0, 0], [-lim, lim], [0, 0], 'k', alpha=0.6)\n",
    "        ax.plot([0, 0], [0, 0], [-lim, lim], 'k', alpha=0.6)\n",
    "        ax.grid(True)\n",
    "        ax.set_xlabel('Component 1')\n",
    "        ax.set_ylabel('Component 2')\n",
    "        ax.set_zlabel('Component 3')\n",
    "        return ax"
   ]
  },
  {
   "cell_type": "code",
   "execution_count": 11,
   "metadata": {},
   "outputs": [
    {
     "name": "stdout",
     "output_type": "stream",
     "text": [
      "[[-3.61952086e-01 -5.89550481e-01 -6.87647498e-01 -1.93609720e-01\n",
      "   1.04274745e-01 -8.95024388e-03 -1.10972705e-02  7.95421051e-04]\n",
      " [-2.07058066e-01 -9.90869316e-02  3.11858630e-01 -2.09016877e-01\n",
      "   3.37806313e-01 -8.13402636e-01  1.72164257e-01  3.14227953e-02]\n",
      " [-2.97131112e-01 -4.99696855e-02  2.93516800e-01 -1.75143499e-01\n",
      "   2.19035165e-01  1.52726956e-01 -8.47708814e-01  4.97656166e-02]\n",
      " [-3.90293774e-01  4.74652073e-02 -3.08690644e-02  8.62971004e-01\n",
      "   3.14684908e-01 -4.36124684e-03  2.50405213e-02 -8.56337666e-03]\n",
      " [-4.82940723e-01  7.63697257e-01 -3.30329707e-01 -2.64689506e-01\n",
      "  -2.50987087e-02 -2.74162147e-02  5.37044235e-02  9.52621429e-03]\n",
      " [-2.49927414e-01 -1.01501469e-01  3.43170925e-01 -2.63156957e-01\n",
      "   4.32017946e-01  5.59975193e-01  4.83812783e-01  7.70022089e-02]\n",
      " [-3.61499644e-01 -1.34194929e-01  2.43735063e-01 -8.80108852e-03\n",
      "  -4.07038325e-01  2.00662294e-02  7.30331014e-02 -7.87660335e-01]\n",
      " [-3.98903585e-01 -1.62227517e-01  2.37674824e-01  6.35880839e-02\n",
      "  -6.12422263e-01 -1.49993804e-02  9.33072937e-02  6.08303489e-01]]\n"
     ]
    }
   ],
   "source": [
    "# Weights\n",
    "pca = MyPca(log_r)\n",
    "pca.fit()\n",
    "print(pca.weight)"
   ]
  },
  {
   "cell_type": "code",
   "execution_count": 12,
   "metadata": {},
   "outputs": [
    {
     "data": {
      "text/html": [
       "<div>\n",
       "<style scoped>\n",
       "    .dataframe tbody tr th:only-of-type {\n",
       "        vertical-align: middle;\n",
       "    }\n",
       "\n",
       "    .dataframe tbody tr th {\n",
       "        vertical-align: top;\n",
       "    }\n",
       "\n",
       "    .dataframe thead th {\n",
       "        text-align: right;\n",
       "    }\n",
       "</style>\n",
       "<table border=\"1\" class=\"dataframe\">\n",
       "  <thead>\n",
       "    <tr style=\"text-align: right;\">\n",
       "      <th></th>\n",
       "      <th>PC 1</th>\n",
       "      <th>PC 2</th>\n",
       "      <th>PC 3</th>\n",
       "      <th>PC 4</th>\n",
       "      <th>PC 5</th>\n",
       "      <th>PC 6</th>\n",
       "      <th>PC 7</th>\n",
       "      <th>PC 8</th>\n",
       "    </tr>\n",
       "  </thead>\n",
       "  <tbody>\n",
       "    <tr>\n",
       "      <th>RIO.AX</th>\n",
       "      <td>-0.3620</td>\n",
       "      <td>-0.5896</td>\n",
       "      <td>-0.6876</td>\n",
       "      <td>-0.1936</td>\n",
       "      <td>0.1043</td>\n",
       "      <td>-0.0090</td>\n",
       "      <td>-0.0111</td>\n",
       "      <td>0.0008</td>\n",
       "    </tr>\n",
       "    <tr>\n",
       "      <th>TLS.AX</th>\n",
       "      <td>-0.2071</td>\n",
       "      <td>-0.0991</td>\n",
       "      <td>0.3119</td>\n",
       "      <td>-0.2090</td>\n",
       "      <td>0.3378</td>\n",
       "      <td>-0.8134</td>\n",
       "      <td>0.1722</td>\n",
       "      <td>0.0314</td>\n",
       "    </tr>\n",
       "    <tr>\n",
       "      <th>WES.AX</th>\n",
       "      <td>-0.2971</td>\n",
       "      <td>-0.0500</td>\n",
       "      <td>0.2935</td>\n",
       "      <td>-0.1751</td>\n",
       "      <td>0.2190</td>\n",
       "      <td>0.1527</td>\n",
       "      <td>-0.8477</td>\n",
       "      <td>0.0498</td>\n",
       "    </tr>\n",
       "    <tr>\n",
       "      <th>CPU.AX</th>\n",
       "      <td>-0.3903</td>\n",
       "      <td>0.0475</td>\n",
       "      <td>-0.0309</td>\n",
       "      <td>0.8630</td>\n",
       "      <td>0.3147</td>\n",
       "      <td>-0.0044</td>\n",
       "      <td>0.0250</td>\n",
       "      <td>-0.0086</td>\n",
       "    </tr>\n",
       "    <tr>\n",
       "      <th>SEK.AX</th>\n",
       "      <td>-0.4829</td>\n",
       "      <td>0.7637</td>\n",
       "      <td>-0.3303</td>\n",
       "      <td>-0.2647</td>\n",
       "      <td>-0.0251</td>\n",
       "      <td>-0.0274</td>\n",
       "      <td>0.0537</td>\n",
       "      <td>0.0095</td>\n",
       "    </tr>\n",
       "    <tr>\n",
       "      <th>WOW.AX</th>\n",
       "      <td>-0.2499</td>\n",
       "      <td>-0.1015</td>\n",
       "      <td>0.3432</td>\n",
       "      <td>-0.2632</td>\n",
       "      <td>0.4320</td>\n",
       "      <td>0.5600</td>\n",
       "      <td>0.4838</td>\n",
       "      <td>0.0770</td>\n",
       "    </tr>\n",
       "    <tr>\n",
       "      <th>CBA.AX</th>\n",
       "      <td>-0.3615</td>\n",
       "      <td>-0.1342</td>\n",
       "      <td>0.2437</td>\n",
       "      <td>-0.0088</td>\n",
       "      <td>-0.4070</td>\n",
       "      <td>0.0201</td>\n",
       "      <td>0.0730</td>\n",
       "      <td>-0.7877</td>\n",
       "    </tr>\n",
       "    <tr>\n",
       "      <th>WBC.AX</th>\n",
       "      <td>-0.3989</td>\n",
       "      <td>-0.1622</td>\n",
       "      <td>0.2377</td>\n",
       "      <td>0.0636</td>\n",
       "      <td>-0.6124</td>\n",
       "      <td>-0.0150</td>\n",
       "      <td>0.0933</td>\n",
       "      <td>0.6083</td>\n",
       "    </tr>\n",
       "  </tbody>\n",
       "</table>\n",
       "</div>"
      ],
      "text/plain": [
       "          PC 1    PC 2    PC 3    PC 4    PC 5    PC 6    PC 7    PC 8\n",
       "RIO.AX -0.3620 -0.5896 -0.6876 -0.1936  0.1043 -0.0090 -0.0111  0.0008\n",
       "TLS.AX -0.2071 -0.0991  0.3119 -0.2090  0.3378 -0.8134  0.1722  0.0314\n",
       "WES.AX -0.2971 -0.0500  0.2935 -0.1751  0.2190  0.1527 -0.8477  0.0498\n",
       "CPU.AX -0.3903  0.0475 -0.0309  0.8630  0.3147 -0.0044  0.0250 -0.0086\n",
       "SEK.AX -0.4829  0.7637 -0.3303 -0.2647 -0.0251 -0.0274  0.0537  0.0095\n",
       "WOW.AX -0.2499 -0.1015  0.3432 -0.2632  0.4320  0.5600  0.4838  0.0770\n",
       "CBA.AX -0.3615 -0.1342  0.2437 -0.0088 -0.4070  0.0201  0.0730 -0.7877\n",
       "WBC.AX -0.3989 -0.1622  0.2377  0.0636 -0.6124 -0.0150  0.0933  0.6083"
      ]
     },
     "execution_count": 12,
     "metadata": {},
     "output_type": "execute_result"
    }
   ],
   "source": [
    "c_name = ['PC 1', 'PC 2', 'PC 3', 'PC 4', 'PC 5', 'PC 6', 'PC 7', 'PC 8']\n",
    "tbl_pca = pd.DataFrame(pca.weight.round(4), index=data.columns, columns=c_name)\n",
    "tbl_pca"
   ]
  },
  {
   "cell_type": "code",
   "execution_count": 29,
   "metadata": {},
   "outputs": [
    {
     "data": {
      "image/png": "[encoded data removed]",
      "text/plain": [
       "<Figure size 864x864 with 1 Axes>"
      ]
     },
     "metadata": {
      "needs_background": "light"
     },
     "output_type": "display_data"
    }
   ],
   "source": [
    "# Biplot\n",
    "plt.figure(figsize=(12, 12))\n",
    "pca.biplot2d()\n",
    "plt.title('Biplot for PC1&2')\n",
    "plt.legend(data.columns)\n",
    "plt.show()"
   ]
  },
  {
   "cell_type": "markdown",
   "metadata": {},
   "source": [
    "### Question a\n",
    "Q: Present the results of your analysis in a table and describe the Principle components found. Do they have a relevant or useful interpretation?\n",
    "\n",
    "A: According to the biplot,\n",
    "\n",
    "PC1 is more likely to be a market factor\n",
    "\n",
    "PC2 is more likely to be c=industry contrasting factor,contrasting RIO&WBC&CBA with SEK&CPU"
   ]
  },
  {
   "cell_type": "code",
   "execution_count": 13,
   "metadata": {},
   "outputs": [
    {
     "data": {
      "text/html": [
       "<div>\n",
       "<style scoped>\n",
       "    .dataframe tbody tr th:only-of-type {\n",
       "        vertical-align: middle;\n",
       "    }\n",
       "\n",
       "    .dataframe tbody tr th {\n",
       "        vertical-align: top;\n",
       "    }\n",
       "\n",
       "    .dataframe thead th {\n",
       "        text-align: right;\n",
       "    }\n",
       "</style>\n",
       "<table border=\"1\" class=\"dataframe\">\n",
       "  <thead>\n",
       "    <tr style=\"text-align: right;\">\n",
       "      <th></th>\n",
       "      <th>PC 1</th>\n",
       "      <th>PC 2</th>\n",
       "      <th>PC 3</th>\n",
       "      <th>PC 4</th>\n",
       "      <th>PC 5</th>\n",
       "      <th>PC 6</th>\n",
       "      <th>PC 7</th>\n",
       "      <th>PC 8</th>\n",
       "    </tr>\n",
       "  </thead>\n",
       "  <tbody>\n",
       "    <tr>\n",
       "      <th>Eigenvalue</th>\n",
       "      <td>8.2177</td>\n",
       "      <td>2.3483</td>\n",
       "      <td>1.9592</td>\n",
       "      <td>1.6777</td>\n",
       "      <td>1.3119</td>\n",
       "      <td>1.0134</td>\n",
       "      <td>0.6165</td>\n",
       "      <td>0.2974</td>\n",
       "    </tr>\n",
       "    <tr>\n",
       "      <th>% Variance</th>\n",
       "      <td>0.4711</td>\n",
       "      <td>0.1346</td>\n",
       "      <td>0.1123</td>\n",
       "      <td>0.0962</td>\n",
       "      <td>0.0752</td>\n",
       "      <td>0.0581</td>\n",
       "      <td>0.0353</td>\n",
       "      <td>0.0170</td>\n",
       "    </tr>\n",
       "    <tr>\n",
       "      <th>Cumulative</th>\n",
       "      <td>0.4711</td>\n",
       "      <td>0.6058</td>\n",
       "      <td>0.7181</td>\n",
       "      <td>0.8143</td>\n",
       "      <td>0.8895</td>\n",
       "      <td>0.9476</td>\n",
       "      <td>0.9830</td>\n",
       "      <td>1.0000</td>\n",
       "    </tr>\n",
       "  </tbody>\n",
       "</table>\n",
       "</div>"
      ],
      "text/plain": [
       "              PC 1    PC 2    PC 3    PC 4    PC 5    PC 6    PC 7    PC 8\n",
       "Eigenvalue  8.2177  2.3483  1.9592  1.6777  1.3119  1.0134  0.6165  0.2974\n",
       "% Variance  0.4711  0.1346  0.1123  0.0962  0.0752  0.0581  0.0353  0.0170\n",
       "Cumulative  0.4711  0.6058  0.7181  0.8143  0.8895  0.9476  0.9830  1.0000"
      ]
     },
     "execution_count": 13,
     "metadata": {},
     "output_type": "execute_result"
    }
   ],
   "source": [
    "tbl_mat = np.vstack([\n",
    "        pca.eigval,\n",
    "        pca.prop_var_explained(),\n",
    "        np.cumsum(pca.prop_var_explained())])\n",
    "tbl_eigval = pd.DataFrame(tbl_mat.round(4),\n",
    "    index=['Eigenvalue', '% Variance', 'Cumulative'],\n",
    "    columns=c_name)\n",
    "tbl_eigval"
   ]
  },
  {
   "cell_type": "markdown",
   "metadata": {},
   "source": [
    "### Question b\n",
    "Q: How many components would you choose.Justify your answer.\n",
    "\n",
    "A: I woud choose 6 components becuase PC7 and PC8 have an eigenvalue which is less than 1, which indicates the maximum number of components would be 6. And the cumulative varianve for PC6 is 94.76%, which is quite reliable. \n",
    "\n",
    "\n",
    "### Question c\n",
    "Q: What percentage of the total variance is captured by each component?\n",
    "\n",
    "A: PC1 is capturing 47.11%; PC2 is capturing 13.46%; PC3 is capturing 11.23%; PC4 is capturing 9.62%; PC5 is capturing 7.52%; PC6 is capturing 5.81%; PC7 is capturing 3.53%; PC8 is capturing 1.7%\n",
    "\n",
    "### Question d\n",
    "Q: What is the cumulative percentage of the total variance captured by the first\n",
    "m components, where m is the number you chose in part (b).\n",
    "\n",
    "A: 94.76% "
   ]
  },
  {
   "cell_type": "code",
   "execution_count": 14,
   "metadata": {},
   "outputs": [
    {
     "data": {
      "image/png": "[encoded data removed]",
      "text/plain": [
       "<Figure size 1080x360 with 2 Axes>"
      ]
     },
     "metadata": {
      "needs_background": "light"
     },
     "output_type": "display_data"
    }
   ],
   "source": [
    "plt.figure(figsize=(15, 5))\n",
    "\n",
    "number_of_components = len(pca.prop_var_explained())\n",
    "\n",
    "plt.subplot(1, 2, 1)\n",
    "plt.bar(np.arange(number_of_components) + 1, pca.prop_var_explained())\n",
    "plt.title('Contribution of principal components')\n",
    "plt.xlabel('principal components')\n",
    "\n",
    "plt.subplot(1, 2, 2)\n",
    "plt.plot(np.arange(number_of_components) + 1, np.cumsum(pca.prop_var_explained()), 'o-')\n",
    "plt.title('Cumulative contribution of principal components')\n",
    "plt.xlabel('principal components');\n",
    "plt.show()"
   ]
  },
  {
   "cell_type": "code",
   "execution_count": 15,
   "metadata": {},
   "outputs": [
    {
     "name": "stdout",
     "output_type": "stream",
     "text": [
      "[8.21772282 2.3482564  1.95921092 1.67774966 1.31186818 1.01340462\n",
      " 0.61645128 0.29737693]\n"
     ]
    }
   ],
   "source": [
    "# Eigenvalues (explained variance)\n",
    "print(pca.eigval)"
   ]
  },
  {
   "cell_type": "code",
   "execution_count": 16,
   "metadata": {},
   "outputs": [
    {
     "name": "stdout",
     "output_type": "stream",
     "text": [
      "[0.47114457 0.13463197 0.11232693 0.09618999 0.075213   0.05810126\n",
      " 0.03534284 0.01704943]\n"
     ]
    }
   ],
   "source": [
    "# Explained variance (%)\n",
    "print(pca.prop_var_explained())"
   ]
  },
  {
   "cell_type": "code",
   "execution_count": 17,
   "metadata": {},
   "outputs": [
    {
     "data": {
      "text/plain": [
       "array([0.47114457, 0.13463197, 0.11232693, 0.09618999, 0.075213  ,\n",
       "       0.05810126, 0.03534284, 0.01704943])"
      ]
     },
     "execution_count": 17,
     "metadata": {},
     "output_type": "execute_result"
    }
   ],
   "source": [
    "# Variation expalined by each individual component\n",
    "pca.prop_var_explained()"
   ]
  },
  {
   "cell_type": "code",
   "execution_count": 18,
   "metadata": {},
   "outputs": [
    {
     "data": {
      "text/plain": [
       "array([0.47114457, 0.60577654, 0.71810348, 0.81429346, 0.88950646,\n",
       "       0.94760772, 0.98295057, 1.        ])"
      ]
     },
     "execution_count": 18,
     "metadata": {},
     "output_type": "execute_result"
    }
   ],
   "source": [
    "# Cumulated Variation as we included more components\n",
    "np.cumsum(pca.prop_var_explained())"
   ]
  },
  {
   "cell_type": "code",
   "execution_count": 19,
   "metadata": {},
   "outputs": [
    {
     "data": {
      "image/png": "[encoded data removed]",
      "text/plain": [
       "<Figure size 504x504 with 1 Axes>"
      ]
     },
     "metadata": {
      "needs_background": "light"
     },
     "output_type": "display_data"
    }
   ],
   "source": [
    "# Biplot\n",
    "plt.figure(figsize=(7, 7))\n",
    "pca.biplot2d()\n",
    "plt.show()"
   ]
  },
  {
   "cell_type": "code",
   "execution_count": 172,
   "metadata": {},
   "outputs": [
    {
     "data": {
      "image/png": "[encoded data removed]",
      "text/plain": [
       "<Figure size 720x720 with 1 Axes>"
      ]
     },
     "metadata": {
      "needs_background": "light"
     },
     "output_type": "display_data"
    }
   ],
   "source": [
    "# 3D biplot\n",
    "plt.figure(figsize=(10, 10))\n",
    "ax = pca.biplot3d()\n",
    "ax.view_init(20, -120)\n",
    "plt.show()"
   ]
  },
  {
   "cell_type": "code",
   "execution_count": 20,
   "metadata": {},
   "outputs": [
    {
     "data": {
      "image/png": "[encoded data removed]",
      "text/plain": [
       "<Figure size 792x360 with 1 Axes>"
      ]
     },
     "metadata": {
      "needs_background": "light"
     },
     "output_type": "display_data"
    }
   ],
   "source": [
    "pc = pca.transform(n_comp=3)\n",
    "pc[:,0] = (-1)*pc[:,0]\n",
    "\n",
    "plt.figure(figsize=(11, 5))\n",
    "plt.plot(log_r.mean(axis=1), label='Average return')\n",
    "plt.plot(pc[:,0], label='PC1')\n",
    "plt.title('Average return vs PC1', fontsize=13, weight='bold')\n",
    "plt.legend(fontsize=13)\n",
    "plt.tight_layout()\n",
    "plt.show()"
   ]
  },
  {
   "cell_type": "markdown",
   "metadata": {},
   "source": [
    "## Question 1: Factor Analysis"
   ]
  },
  {
   "cell_type": "code",
   "execution_count": 21,
   "metadata": {},
   "outputs": [
    {
     "data": {
      "text/html": [
       "<div>\n",
       "<style scoped>\n",
       "    .dataframe tbody tr th:only-of-type {\n",
       "        vertical-align: middle;\n",
       "    }\n",
       "\n",
       "    .dataframe tbody tr th {\n",
       "        vertical-align: top;\n",
       "    }\n",
       "\n",
       "    .dataframe thead th {\n",
       "        text-align: right;\n",
       "    }\n",
       "</style>\n",
       "<table border=\"1\" class=\"dataframe\">\n",
       "  <thead>\n",
       "    <tr style=\"text-align: right;\">\n",
       "      <th></th>\n",
       "      <th>RIO.AX</th>\n",
       "      <th>TLS.AX</th>\n",
       "      <th>WES.AX</th>\n",
       "      <th>CPU.AX</th>\n",
       "      <th>SEK.AX</th>\n",
       "      <th>WOW.AX</th>\n",
       "      <th>CBA.AX</th>\n",
       "      <th>WBC.AX</th>\n",
       "    </tr>\n",
       "  </thead>\n",
       "  <tbody>\n",
       "    <tr>\n",
       "      <th>RIO.AX</th>\n",
       "      <td>1.000000</td>\n",
       "      <td>0.219045</td>\n",
       "      <td>0.313160</td>\n",
       "      <td>0.325313</td>\n",
       "      <td>0.279959</td>\n",
       "      <td>0.259660</td>\n",
       "      <td>0.403502</td>\n",
       "      <td>0.400347</td>\n",
       "    </tr>\n",
       "    <tr>\n",
       "      <th>TLS.AX</th>\n",
       "      <td>0.219045</td>\n",
       "      <td>1.000000</td>\n",
       "      <td>0.432200</td>\n",
       "      <td>0.241640</td>\n",
       "      <td>0.238745</td>\n",
       "      <td>0.347203</td>\n",
       "      <td>0.386753</td>\n",
       "      <td>0.338723</td>\n",
       "    </tr>\n",
       "    <tr>\n",
       "      <th>WES.AX</th>\n",
       "      <td>0.313160</td>\n",
       "      <td>0.432200</td>\n",
       "      <td>1.000000</td>\n",
       "      <td>0.380599</td>\n",
       "      <td>0.404946</td>\n",
       "      <td>0.557080</td>\n",
       "      <td>0.563177</td>\n",
       "      <td>0.506858</td>\n",
       "    </tr>\n",
       "    <tr>\n",
       "      <th>CPU.AX</th>\n",
       "      <td>0.325313</td>\n",
       "      <td>0.241640</td>\n",
       "      <td>0.380599</td>\n",
       "      <td>1.000000</td>\n",
       "      <td>0.408073</td>\n",
       "      <td>0.278818</td>\n",
       "      <td>0.457882</td>\n",
       "      <td>0.462006</td>\n",
       "    </tr>\n",
       "    <tr>\n",
       "      <th>SEK.AX</th>\n",
       "      <td>0.279959</td>\n",
       "      <td>0.238745</td>\n",
       "      <td>0.404946</td>\n",
       "      <td>0.408073</td>\n",
       "      <td>1.000000</td>\n",
       "      <td>0.287734</td>\n",
       "      <td>0.432428</td>\n",
       "      <td>0.412324</td>\n",
       "    </tr>\n",
       "    <tr>\n",
       "      <th>WOW.AX</th>\n",
       "      <td>0.259660</td>\n",
       "      <td>0.347203</td>\n",
       "      <td>0.557080</td>\n",
       "      <td>0.278818</td>\n",
       "      <td>0.287734</td>\n",
       "      <td>1.000000</td>\n",
       "      <td>0.449792</td>\n",
       "      <td>0.369972</td>\n",
       "    </tr>\n",
       "    <tr>\n",
       "      <th>CBA.AX</th>\n",
       "      <td>0.403502</td>\n",
       "      <td>0.386753</td>\n",
       "      <td>0.563177</td>\n",
       "      <td>0.457882</td>\n",
       "      <td>0.432428</td>\n",
       "      <td>0.449792</td>\n",
       "      <td>1.000000</td>\n",
       "      <td>0.829803</td>\n",
       "    </tr>\n",
       "    <tr>\n",
       "      <th>WBC.AX</th>\n",
       "      <td>0.400347</td>\n",
       "      <td>0.338723</td>\n",
       "      <td>0.506858</td>\n",
       "      <td>0.462006</td>\n",
       "      <td>0.412324</td>\n",
       "      <td>0.369972</td>\n",
       "      <td>0.829803</td>\n",
       "      <td>1.000000</td>\n",
       "    </tr>\n",
       "  </tbody>\n",
       "</table>\n",
       "</div>"
      ],
      "text/plain": [
       "          RIO.AX    TLS.AX    WES.AX    CPU.AX    SEK.AX    WOW.AX    CBA.AX  \\\n",
       "RIO.AX  1.000000  0.219045  0.313160  0.325313  0.279959  0.259660  0.403502   \n",
       "TLS.AX  0.219045  1.000000  0.432200  0.241640  0.238745  0.347203  0.386753   \n",
       "WES.AX  0.313160  0.432200  1.000000  0.380599  0.404946  0.557080  0.563177   \n",
       "CPU.AX  0.325313  0.241640  0.380599  1.000000  0.408073  0.278818  0.457882   \n",
       "SEK.AX  0.279959  0.238745  0.404946  0.408073  1.000000  0.287734  0.432428   \n",
       "WOW.AX  0.259660  0.347203  0.557080  0.278818  0.287734  1.000000  0.449792   \n",
       "CBA.AX  0.403502  0.386753  0.563177  0.457882  0.432428  0.449792  1.000000   \n",
       "WBC.AX  0.400347  0.338723  0.506858  0.462006  0.412324  0.369972  0.829803   \n",
       "\n",
       "          WBC.AX  \n",
       "RIO.AX  0.400347  \n",
       "TLS.AX  0.338723  \n",
       "WES.AX  0.506858  \n",
       "CPU.AX  0.462006  \n",
       "SEK.AX  0.412324  \n",
       "WOW.AX  0.369972  \n",
       "CBA.AX  0.829803  \n",
       "WBC.AX  1.000000  "
      ]
     },
     "execution_count": 21,
     "metadata": {},
     "output_type": "execute_result"
    }
   ],
   "source": [
    "# Sample correlation matrix \n",
    "log_r.corr()"
   ]
  },
  {
   "cell_type": "code",
   "execution_count": 22,
   "metadata": {},
   "outputs": [],
   "source": [
    "'''\n",
    "Biplot for a given weight matrix\n",
    "'''\n",
    "def biplot(weight, labels=None):\n",
    "    ax = plt.axes()\n",
    "    for i in range(weight.shape[0]):\n",
    "        w = weight[i, :]\n",
    "        if labels is None:\n",
    "            ax.plot([0, w[0]], [0, w[1]])\n",
    "        else:\n",
    "            ax.plot([0, w[0]], [0, w[1]], label=labels[i])\n",
    "        ax.scatter(w[0], w[1])\n",
    "    ax.axhline(y=0, color='k', alpha=0.6)\n",
    "    ax.axvline(x=0, color='k', alpha=0.6)\n",
    "    lim = np.max(np.abs(weight[:, :2]))\n",
    "    lim = lim + 0.1 * lim\n",
    "    ax.axis([-lim, lim, -lim, lim])\n",
    "    ax.grid(True)\n",
    "    ax.set_xlabel('Component 1')\n",
    "    ax.set_ylabel('Component 2')\n",
    "    return ax\n",
    "\n",
    "'''\n",
    "3D biplot for a given weight matrix\n",
    "'''\n",
    "def biplot3d(weight):\n",
    "    ax = plt.axes(projection=\"3d\")\n",
    "    for i in range(weight.shape[0]):\n",
    "        w = weight[i, :]\n",
    "        ax.plot([0, w[0]], [0, w[1]], [0, w[2]])\n",
    "        ax.scatter(w[0], w[1], w[2])\n",
    "    lim = np.max(np.abs(weight[:, :3]))\n",
    "    lim = lim + 0.1 * lim\n",
    "    ax.axis([-lim, lim, -lim, lim])\n",
    "    ax.set_zbound(lower=-lim, upper=lim)\n",
    "    ax.plot([-lim, lim], [0, 0], [0, 0], 'k', alpha=0.6)\n",
    "    ax.plot([0, 0], [-lim, lim], [0, 0], 'k', alpha=0.6)\n",
    "    ax.plot([0, 0], [0, 0], [-lim, lim], 'k', alpha=0.6)\n",
    "    ax.grid(True)\n",
    "    ax.set_xlabel('Component 1')\n",
    "    ax.set_ylabel('Component 2')\n",
    "    ax.set_zlabel('Component 3')\n",
    "    return ax"
   ]
  },
  {
   "cell_type": "markdown",
   "metadata": {},
   "source": [
    "### Question e\n",
    "\n",
    "Q: For the 2-factor model, present the results of your analysis in a table and describe the factors found. Do they have a relevant or useful interpretation? Justify your answer.\n",
    "\n",
    "\n",
    "### Question f\n",
    "Q: Conduct the hypothesis test that the 2 factor model is appropriate for your data.\n",
    "\n",
    "### Question g\n",
    "Q: How many factors would you choose to include in your factor model?Justify your answer.\n",
    "\n",
    "### Question h\n",
    "Q: For the 2 factor model, what percent of variance is captured by the model?\n",
    "\n",
    "### Question i\n",
    "Q: For the 3 factor model, what is the Adjusted R-squared for asset 4?\n",
    "\n",
    "### Question j\n",
    "\n",
    "Q: For the 1 factor model, what is the specificity for asset 2?"
   ]
  },
  {
   "cell_type": "markdown",
   "metadata": {},
   "source": [
    "### i) 1 factor (m=1)"
   ]
  },
  {
   "cell_type": "code",
   "execution_count": 23,
   "metadata": {},
   "outputs": [],
   "source": [
    "#Fitting the Factor Analysis with m=1\n",
    "fm1 = Factor(endog=log_r, n_factor=1, method='ml')\n",
    "result1 = fm1.fit()"
   ]
  },
  {
   "cell_type": "code",
   "execution_count": 24,
   "metadata": {},
   "outputs": [
    {
     "data": {
      "text/plain": [
       "array([[0.46218488],\n",
       "       [0.44021944],\n",
       "       [0.63972847],\n",
       "       [0.53246156],\n",
       "       [0.50107263],\n",
       "       [0.50681852],\n",
       "       [0.91790347],\n",
       "       [0.87496598]])"
      ]
     },
     "execution_count": 24,
     "metadata": {},
     "output_type": "execute_result"
    }
   ],
   "source": [
    "# Standardised factor loadings\n",
    "result1.loadings"
   ]
  },
  {
   "cell_type": "code",
   "execution_count": 178,
   "metadata": {},
   "outputs": [
    {
     "data": {
      "text/plain": [
       "RIO.AX    0.786601\n",
       "TLS.AX    0.535184\n",
       "WES.AX    0.778773\n",
       "CPU.AX    0.864942\n",
       "SEK.AX    0.953479\n",
       "WOW.AX    0.639696\n",
       "CBA.AX    1.174866\n",
       "WBC.AX    1.266303\n",
       "dtype: float64"
      ]
     },
     "execution_count": 178,
     "metadata": {},
     "output_type": "execute_result"
    }
   ],
   "source": [
    "# Factor loadings (regression coefficients), i.e. rescaled to be on the scale of y (i.e. the returns data).\n",
    "result1.loadings[:, 0] * log_r.std()"
   ]
  },
  {
   "cell_type": "code",
   "execution_count": 179,
   "metadata": {},
   "outputs": [
    {
     "data": {
      "text/html": [
       "<div>\n",
       "<style scoped>\n",
       "    .dataframe tbody tr th:only-of-type {\n",
       "        vertical-align: middle;\n",
       "    }\n",
       "\n",
       "    .dataframe tbody tr th {\n",
       "        vertical-align: top;\n",
       "    }\n",
       "\n",
       "    .dataframe thead th {\n",
       "        text-align: right;\n",
       "    }\n",
       "</style>\n",
       "<table border=\"1\" class=\"dataframe\">\n",
       "  <thead>\n",
       "    <tr style=\"text-align: right;\">\n",
       "      <th></th>\n",
       "      <th>RIO.AX</th>\n",
       "      <th>TLS.AX</th>\n",
       "      <th>WES.AX</th>\n",
       "      <th>CPU.AX</th>\n",
       "      <th>SEK.AX</th>\n",
       "      <th>WOW.AX</th>\n",
       "      <th>CBA.AX</th>\n",
       "      <th>WBC.AX</th>\n",
       "    </tr>\n",
       "  </thead>\n",
       "  <tbody>\n",
       "    <tr>\n",
       "      <th>Sample STD</th>\n",
       "      <td>25.3390</td>\n",
       "      <td>0.7571</td>\n",
       "      <td>11.4309</td>\n",
       "      <td>3.5124</td>\n",
       "      <td>6.5201</td>\n",
       "      <td>6.5430</td>\n",
       "      <td>15.3201</td>\n",
       "      <td>4.0893</td>\n",
       "    </tr>\n",
       "    <tr>\n",
       "      <th>Communal STD</th>\n",
       "      <td>0.7866</td>\n",
       "      <td>0.5352</td>\n",
       "      <td>0.7788</td>\n",
       "      <td>0.8649</td>\n",
       "      <td>0.9535</td>\n",
       "      <td>0.6397</td>\n",
       "      <td>1.1749</td>\n",
       "      <td>1.2663</td>\n",
       "    </tr>\n",
       "    <tr>\n",
       "      <th>Specific STD</th>\n",
       "      <td>1.5092</td>\n",
       "      <td>1.0916</td>\n",
       "      <td>0.9357</td>\n",
       "      <td>1.3750</td>\n",
       "      <td>1.6468</td>\n",
       "      <td>1.0881</td>\n",
       "      <td>0.5079</td>\n",
       "      <td>0.7007</td>\n",
       "    </tr>\n",
       "  </tbody>\n",
       "</table>\n",
       "</div>"
      ],
      "text/plain": [
       "               RIO.AX  TLS.AX   WES.AX  CPU.AX  SEK.AX  WOW.AX   CBA.AX  \\\n",
       "Sample STD    25.3390  0.7571  11.4309  3.5124  6.5201  6.5430  15.3201   \n",
       "Communal STD   0.7866  0.5352   0.7788  0.8649  0.9535  0.6397   1.1749   \n",
       "Specific STD   1.5092  1.0916   0.9357  1.3750  1.6468  1.0881   0.5079   \n",
       "\n",
       "              WBC.AX  \n",
       "Sample STD    4.0893  \n",
       "Communal STD  1.2663  \n",
       "Specific STD  0.7007  "
      ]
     },
     "execution_count": 179,
     "metadata": {},
     "output_type": "execute_result"
    }
   ],
   "source": [
    "result1.uniqueness\n",
    "ser2 = result1.uniqueness * log_r.var() \n",
    "ser = np.sqrt(ser2)\n",
    "r2 = np.sqrt(result1.communality * log_r.var())     # re-scaled to be for actual data\n",
    "\n",
    "tbl_r = pd.DataFrame({'Sample STD': data.std().round(4),\n",
    "                      'Communal STD': r2.round(4),\n",
    "                      'Specific STD' : ser.round(4)})\n",
    "tbl_r.T"
   ]
  },
  {
   "cell_type": "code",
   "execution_count": 180,
   "metadata": {},
   "outputs": [
    {
     "data": {
      "text/html": [
       "<div>\n",
       "<style scoped>\n",
       "    .dataframe tbody tr th:only-of-type {\n",
       "        vertical-align: middle;\n",
       "    }\n",
       "\n",
       "    .dataframe tbody tr th {\n",
       "        vertical-align: top;\n",
       "    }\n",
       "\n",
       "    .dataframe thead th {\n",
       "        text-align: right;\n",
       "    }\n",
       "</style>\n",
       "<table border=\"1\" class=\"dataframe\">\n",
       "  <thead>\n",
       "    <tr style=\"text-align: right;\">\n",
       "      <th></th>\n",
       "      <th>RIO.AX</th>\n",
       "      <th>TLS.AX</th>\n",
       "      <th>WES.AX</th>\n",
       "      <th>CPU.AX</th>\n",
       "      <th>SEK.AX</th>\n",
       "      <th>WOW.AX</th>\n",
       "      <th>CBA.AX</th>\n",
       "      <th>WBC.AX</th>\n",
       "    </tr>\n",
       "  </thead>\n",
       "  <tbody>\n",
       "    <tr>\n",
       "      <th>Sample Variance</th>\n",
       "      <td>2.896500</td>\n",
       "      <td>1.478000</td>\n",
       "      <td>1.481900</td>\n",
       "      <td>2.638700</td>\n",
       "      <td>3.62090</td>\n",
       "      <td>1.593100</td>\n",
       "      <td>1.638300</td>\n",
       "      <td>2.09460</td>\n",
       "    </tr>\n",
       "    <tr>\n",
       "      <th>Communal Variance</th>\n",
       "      <td>0.618700</td>\n",
       "      <td>0.286400</td>\n",
       "      <td>0.606500</td>\n",
       "      <td>0.748100</td>\n",
       "      <td>0.90910</td>\n",
       "      <td>0.409200</td>\n",
       "      <td>1.380300</td>\n",
       "      <td>1.60350</td>\n",
       "    </tr>\n",
       "    <tr>\n",
       "      <th>Specific Variance</th>\n",
       "      <td>2.277685</td>\n",
       "      <td>1.191591</td>\n",
       "      <td>0.875534</td>\n",
       "      <td>1.890625</td>\n",
       "      <td>2.71195</td>\n",
       "      <td>1.183962</td>\n",
       "      <td>0.257962</td>\n",
       "      <td>0.49098</td>\n",
       "    </tr>\n",
       "  </tbody>\n",
       "</table>\n",
       "</div>"
      ],
      "text/plain": [
       "                     RIO.AX    TLS.AX    WES.AX    CPU.AX   SEK.AX    WOW.AX  \\\n",
       "Sample Variance    2.896500  1.478000  1.481900  2.638700  3.62090  1.593100   \n",
       "Communal Variance  0.618700  0.286400  0.606500  0.748100  0.90910  0.409200   \n",
       "Specific Variance  2.277685  1.191591  0.875534  1.890625  2.71195  1.183962   \n",
       "\n",
       "                     CBA.AX   WBC.AX  \n",
       "Sample Variance    1.638300  2.09460  \n",
       "Communal Variance  1.380300  1.60350  \n",
       "Specific Variance  0.257962  0.49098  "
      ]
     },
     "execution_count": 180,
     "metadata": {},
     "output_type": "execute_result"
    }
   ],
   "source": [
    "r2 = result1.communality * log_r.var()    # re-scaled to be for actual data\n",
    "communal_var = result1.communality * log_r.var()\n",
    "\n",
    "tbl_r = pd.DataFrame({'Sample Variance': log_r.var().round(4),\n",
    "                      'Communal Variance': communal_var.round(4),\n",
    "                      'Specific Variance' : ser.round(4)**2})\n",
    "tbl_r.T "
   ]
  },
  {
   "cell_type": "code",
   "execution_count": 181,
   "metadata": {},
   "outputs": [
    {
     "data": {
      "text/plain": [
       "0.3762141383153286"
      ]
     },
     "execution_count": 181,
     "metadata": {},
     "output_type": "execute_result"
    }
   ],
   "source": [
    "#Total data variance captured by FM m=1\n",
    "total_data_variance = np.sum(log_r.var())\n",
    "total_communal_variance = np.sum(result1.communality * log_r.var())\n",
    "total_communal_variance / total_data_variance"
   ]
  },
  {
   "cell_type": "markdown",
   "metadata": {},
   "source": [
    "### ii) 2 factors (m=2)"
   ]
  },
  {
   "cell_type": "code",
   "execution_count": 182,
   "metadata": {},
   "outputs": [],
   "source": [
    "#Fitting the Factor Analysis with m=2\n",
    "fm2 = Factor(endog=log_r, n_factor=2, method='ml')\n",
    "result2 = fm2.fit()"
   ]
  },
  {
   "cell_type": "code",
   "execution_count": 183,
   "metadata": {},
   "outputs": [
    {
     "data": {
      "text/plain": [
       "array([[-0.45732608, -0.06283236],\n",
       "       [-0.43781005, -0.28695287],\n",
       "       [-0.65879023, -0.48086763],\n",
       "       [-0.52875564, -0.08631787],\n",
       "       [-0.49563663, -0.15729244],\n",
       "       [-0.50956777, -0.4459024 ],\n",
       "       [-0.8967087 ,  0.04511492],\n",
       "       [-0.91353048,  0.20663897]])"
      ]
     },
     "execution_count": 183,
     "metadata": {},
     "output_type": "execute_result"
    }
   ],
   "source": [
    "# Standardised factor loadings\n",
    "result2.loadings"
   ]
  },
  {
   "cell_type": "code",
   "execution_count": 184,
   "metadata": {},
   "outputs": [
    {
     "data": {
      "text/html": [
       "<div>\n",
       "<style scoped>\n",
       "    .dataframe tbody tr th:only-of-type {\n",
       "        vertical-align: middle;\n",
       "    }\n",
       "\n",
       "    .dataframe tbody tr th {\n",
       "        vertical-align: top;\n",
       "    }\n",
       "\n",
       "    .dataframe thead th {\n",
       "        text-align: right;\n",
       "    }\n",
       "</style>\n",
       "<table border=\"1\" class=\"dataframe\">\n",
       "  <thead>\n",
       "    <tr style=\"text-align: right;\">\n",
       "      <th></th>\n",
       "      <th>Factor 1</th>\n",
       "      <th>Factor 2</th>\n",
       "    </tr>\n",
       "  </thead>\n",
       "  <tbody>\n",
       "    <tr>\n",
       "      <th>RIO.AX</th>\n",
       "      <td>0.7783</td>\n",
       "      <td>-0.1069</td>\n",
       "    </tr>\n",
       "    <tr>\n",
       "      <th>TLS.AX</th>\n",
       "      <td>0.5323</td>\n",
       "      <td>-0.3489</td>\n",
       "    </tr>\n",
       "    <tr>\n",
       "      <th>WES.AX</th>\n",
       "      <td>0.8020</td>\n",
       "      <td>-0.5854</td>\n",
       "    </tr>\n",
       "    <tr>\n",
       "      <th>CPU.AX</th>\n",
       "      <td>0.8589</td>\n",
       "      <td>-0.1402</td>\n",
       "    </tr>\n",
       "    <tr>\n",
       "      <th>SEK.AX</th>\n",
       "      <td>0.9431</td>\n",
       "      <td>-0.2993</td>\n",
       "    </tr>\n",
       "    <tr>\n",
       "      <th>WOW.AX</th>\n",
       "      <td>0.6432</td>\n",
       "      <td>-0.5628</td>\n",
       "    </tr>\n",
       "    <tr>\n",
       "      <th>CBA.AX</th>\n",
       "      <td>1.1477</td>\n",
       "      <td>0.0577</td>\n",
       "    </tr>\n",
       "    <tr>\n",
       "      <th>WBC.AX</th>\n",
       "      <td>1.3221</td>\n",
       "      <td>0.2991</td>\n",
       "    </tr>\n",
       "  </tbody>\n",
       "</table>\n",
       "</div>"
      ],
      "text/plain": [
       "        Factor 1  Factor 2\n",
       "RIO.AX    0.7783   -0.1069\n",
       "TLS.AX    0.5323   -0.3489\n",
       "WES.AX    0.8020   -0.5854\n",
       "CPU.AX    0.8589   -0.1402\n",
       "SEK.AX    0.9431   -0.2993\n",
       "WOW.AX    0.6432   -0.5628\n",
       "CBA.AX    1.1477    0.0577\n",
       "WBC.AX    1.3221    0.2991"
      ]
     },
     "execution_count": 184,
     "metadata": {},
     "output_type": "execute_result"
    }
   ],
   "source": [
    "# Actual loadings with Factor 1 by (-1)\n",
    "tbl_loading2 = pd.DataFrame({'Factor 1': round(result2.loadings[:,0] * log_r.std() * (-1), 4),\n",
    "                             'Factor 2': round(result2.loadings[:,1] * log_r.std(), 4)})\n",
    "tbl_loading2"
   ]
  },
  {
   "cell_type": "code",
   "execution_count": 185,
   "metadata": {},
   "outputs": [
    {
     "data": {
      "image/png": "[encoded data removed]",
      "text/plain": [
       "<Figure size 1440x1080 with 3 Axes>"
      ]
     },
     "metadata": {
      "needs_background": "light"
     },
     "output_type": "display_data"
    }
   ],
   "source": [
    "score_2 = result2.factor_scoring(method='regression', transform=True)\n",
    "fig, ax = plt.subplots(3, 1, figsize=(20, 15))\n",
    "log_r.plot(ax=ax[0])\n",
    "ax[0].set_title('8 Asset Log-Returns')\n",
    "ax[0].legend(loc='best', ncol=5, fontsize=12)\n",
    "ax[1].plot(score_2[:,0] * (-1))\n",
    "ax[1].set_title('1st Factor')\n",
    "ax[2].plot(score_2[:,1])\n",
    "ax[2].set_title('2nd Factor')\n",
    "plt.tight_layout()\n",
    "plt.show()"
   ]
  },
  {
   "cell_type": "code",
   "execution_count": 186,
   "metadata": {
    "scrolled": false
   },
   "outputs": [
    {
     "data": {
      "image/png": "[encoded data removed]",
      "text/plain": [
       "<Figure size 504x360 with 1 Axes>"
      ]
     },
     "metadata": {
      "needs_background": "light"
     },
     "output_type": "display_data"
    }
   ],
   "source": [
    "plt.figure(figsize=(7, 5))\n",
    "biplot(tbl_loading2.values, labels=log_r.columns)\n",
    "plt.tight_layout()\n",
    "plt.legend()\n",
    "plt.show()"
   ]
  },
  {
   "cell_type": "code",
   "execution_count": 187,
   "metadata": {},
   "outputs": [
    {
     "data": {
      "text/html": [
       "<div>\n",
       "<style scoped>\n",
       "    .dataframe tbody tr th:only-of-type {\n",
       "        vertical-align: middle;\n",
       "    }\n",
       "\n",
       "    .dataframe tbody tr th {\n",
       "        vertical-align: top;\n",
       "    }\n",
       "\n",
       "    .dataframe thead th {\n",
       "        text-align: right;\n",
       "    }\n",
       "</style>\n",
       "<table border=\"1\" class=\"dataframe\">\n",
       "  <thead>\n",
       "    <tr style=\"text-align: right;\">\n",
       "      <th></th>\n",
       "      <th>RIO.AX</th>\n",
       "      <th>TLS.AX</th>\n",
       "      <th>WES.AX</th>\n",
       "      <th>CPU.AX</th>\n",
       "      <th>SEK.AX</th>\n",
       "      <th>WOW.AX</th>\n",
       "      <th>CBA.AX</th>\n",
       "      <th>WBC.AX</th>\n",
       "    </tr>\n",
       "  </thead>\n",
       "  <tbody>\n",
       "    <tr>\n",
       "      <th>Sample Var</th>\n",
       "      <td>2.8965</td>\n",
       "      <td>1.4780</td>\n",
       "      <td>1.4819</td>\n",
       "      <td>2.6387</td>\n",
       "      <td>3.6209</td>\n",
       "      <td>1.5931</td>\n",
       "      <td>1.6383</td>\n",
       "      <td>2.0946</td>\n",
       "    </tr>\n",
       "    <tr>\n",
       "      <th>Specific Var (m=1)</th>\n",
       "      <td>2.2778</td>\n",
       "      <td>1.1916</td>\n",
       "      <td>0.8755</td>\n",
       "      <td>1.8906</td>\n",
       "      <td>2.7118</td>\n",
       "      <td>1.1839</td>\n",
       "      <td>0.2579</td>\n",
       "      <td>0.4910</td>\n",
       "    </tr>\n",
       "    <tr>\n",
       "      <th>Specific Var (m=2)</th>\n",
       "      <td>2.2793</td>\n",
       "      <td>1.0730</td>\n",
       "      <td>0.4961</td>\n",
       "      <td>1.8813</td>\n",
       "      <td>2.6418</td>\n",
       "      <td>0.8627</td>\n",
       "      <td>0.3176</td>\n",
       "      <td>0.2571</td>\n",
       "    </tr>\n",
       "    <tr>\n",
       "      <th>Communal Var (m=1)</th>\n",
       "      <td>0.6187</td>\n",
       "      <td>0.2864</td>\n",
       "      <td>0.6065</td>\n",
       "      <td>0.7481</td>\n",
       "      <td>0.9091</td>\n",
       "      <td>0.4092</td>\n",
       "      <td>1.3803</td>\n",
       "      <td>1.6035</td>\n",
       "    </tr>\n",
       "    <tr>\n",
       "      <th>Communal Var (m=2)</th>\n",
       "      <td>0.6172</td>\n",
       "      <td>0.4050</td>\n",
       "      <td>0.9858</td>\n",
       "      <td>0.7574</td>\n",
       "      <td>0.9791</td>\n",
       "      <td>0.7304</td>\n",
       "      <td>1.3206</td>\n",
       "      <td>1.8374</td>\n",
       "    </tr>\n",
       "  </tbody>\n",
       "</table>\n",
       "</div>"
      ],
      "text/plain": [
       "                    RIO.AX  TLS.AX  WES.AX  CPU.AX  SEK.AX  WOW.AX  CBA.AX  \\\n",
       "Sample Var          2.8965  1.4780  1.4819  2.6387  3.6209  1.5931  1.6383   \n",
       "Specific Var (m=1)  2.2778  1.1916  0.8755  1.8906  2.7118  1.1839  0.2579   \n",
       "Specific Var (m=2)  2.2793  1.0730  0.4961  1.8813  2.6418  0.8627  0.3176   \n",
       "Communal Var (m=1)  0.6187  0.2864  0.6065  0.7481  0.9091  0.4092  1.3803   \n",
       "Communal Var (m=2)  0.6172  0.4050  0.9858  0.7574  0.9791  0.7304  1.3206   \n",
       "\n",
       "                    WBC.AX  \n",
       "Sample Var          2.0946  \n",
       "Specific Var (m=1)  0.4910  \n",
       "Specific Var (m=2)  0.2571  \n",
       "Communal Var (m=1)  1.6035  \n",
       "Communal Var (m=2)  1.8374  "
      ]
     },
     "execution_count": 187,
     "metadata": {},
     "output_type": "execute_result"
    }
   ],
   "source": [
    "ser2_2 = result2.uniqueness * log_r.var() \n",
    "ser_2 = np.sqrt(ser2_2)\n",
    "r2_2 = result2.communality * log_r.var()\n",
    "\n",
    "tbl_r_2 = pd.DataFrame({'Sample Var': log_r.var().round(4),\n",
    "                        'Specific Var (m=1)' : ser2.round(4),\n",
    "                        'Specific Var (m=2)' : ser2_2.round(4),\n",
    "                        'Communal Var (m=1)': r2.round(4),\n",
    "                        'Communal Var (m=2)': r2_2.round(4)})\n",
    "tbl_r_2.T"
   ]
  },
  {
   "cell_type": "code",
   "execution_count": 225,
   "metadata": {},
   "outputs": [
    {
     "data": {
      "text/plain": [
       "0.4376235471054291"
      ]
     },
     "execution_count": 225,
     "metadata": {},
     "output_type": "execute_result"
    }
   ],
   "source": [
    "#Total data variance captured by FM m=2\n",
    "total_data_variance = np.sum(log_r.var())\n",
    "total_communal_variance = np.sum(result2.communality * log_r.var())\n",
    "total_communal_variance / total_data_variance"
   ]
  },
  {
   "cell_type": "code",
   "execution_count": 189,
   "metadata": {},
   "outputs": [
    {
     "data": {
      "text/html": [
       "<div>\n",
       "<style scoped>\n",
       "    .dataframe tbody tr th:only-of-type {\n",
       "        vertical-align: middle;\n",
       "    }\n",
       "\n",
       "    .dataframe tbody tr th {\n",
       "        vertical-align: top;\n",
       "    }\n",
       "\n",
       "    .dataframe thead th {\n",
       "        text-align: right;\n",
       "    }\n",
       "</style>\n",
       "<table border=\"1\" class=\"dataframe\">\n",
       "  <thead>\n",
       "    <tr style=\"text-align: right;\">\n",
       "      <th></th>\n",
       "      <th>RIO.AX</th>\n",
       "      <th>TLS.AX</th>\n",
       "      <th>WES.AX</th>\n",
       "      <th>CPU.AX</th>\n",
       "      <th>SEK.AX</th>\n",
       "      <th>WOW.AX</th>\n",
       "      <th>CBA.AX</th>\n",
       "      <th>WBC.AX</th>\n",
       "    </tr>\n",
       "  </thead>\n",
       "  <tbody>\n",
       "    <tr>\n",
       "      <th>RIO.AX</th>\n",
       "      <td>1.000000</td>\n",
       "      <td>0.219045</td>\n",
       "      <td>0.313160</td>\n",
       "      <td>0.325313</td>\n",
       "      <td>0.279959</td>\n",
       "      <td>0.259660</td>\n",
       "      <td>0.403502</td>\n",
       "      <td>0.400347</td>\n",
       "    </tr>\n",
       "    <tr>\n",
       "      <th>TLS.AX</th>\n",
       "      <td>0.219045</td>\n",
       "      <td>1.000000</td>\n",
       "      <td>0.432200</td>\n",
       "      <td>0.241640</td>\n",
       "      <td>0.238745</td>\n",
       "      <td>0.347203</td>\n",
       "      <td>0.386753</td>\n",
       "      <td>0.338723</td>\n",
       "    </tr>\n",
       "    <tr>\n",
       "      <th>WES.AX</th>\n",
       "      <td>0.313160</td>\n",
       "      <td>0.432200</td>\n",
       "      <td>1.000000</td>\n",
       "      <td>0.380599</td>\n",
       "      <td>0.404946</td>\n",
       "      <td>0.557080</td>\n",
       "      <td>0.563177</td>\n",
       "      <td>0.506858</td>\n",
       "    </tr>\n",
       "    <tr>\n",
       "      <th>CPU.AX</th>\n",
       "      <td>0.325313</td>\n",
       "      <td>0.241640</td>\n",
       "      <td>0.380599</td>\n",
       "      <td>1.000000</td>\n",
       "      <td>0.408073</td>\n",
       "      <td>0.278818</td>\n",
       "      <td>0.457882</td>\n",
       "      <td>0.462006</td>\n",
       "    </tr>\n",
       "    <tr>\n",
       "      <th>SEK.AX</th>\n",
       "      <td>0.279959</td>\n",
       "      <td>0.238745</td>\n",
       "      <td>0.404946</td>\n",
       "      <td>0.408073</td>\n",
       "      <td>1.000000</td>\n",
       "      <td>0.287734</td>\n",
       "      <td>0.432428</td>\n",
       "      <td>0.412324</td>\n",
       "    </tr>\n",
       "    <tr>\n",
       "      <th>WOW.AX</th>\n",
       "      <td>0.259660</td>\n",
       "      <td>0.347203</td>\n",
       "      <td>0.557080</td>\n",
       "      <td>0.278818</td>\n",
       "      <td>0.287734</td>\n",
       "      <td>1.000000</td>\n",
       "      <td>0.449792</td>\n",
       "      <td>0.369972</td>\n",
       "    </tr>\n",
       "    <tr>\n",
       "      <th>CBA.AX</th>\n",
       "      <td>0.403502</td>\n",
       "      <td>0.386753</td>\n",
       "      <td>0.563177</td>\n",
       "      <td>0.457882</td>\n",
       "      <td>0.432428</td>\n",
       "      <td>0.449792</td>\n",
       "      <td>1.000000</td>\n",
       "      <td>0.829803</td>\n",
       "    </tr>\n",
       "    <tr>\n",
       "      <th>WBC.AX</th>\n",
       "      <td>0.400347</td>\n",
       "      <td>0.338723</td>\n",
       "      <td>0.506858</td>\n",
       "      <td>0.462006</td>\n",
       "      <td>0.412324</td>\n",
       "      <td>0.369972</td>\n",
       "      <td>0.829803</td>\n",
       "      <td>1.000000</td>\n",
       "    </tr>\n",
       "  </tbody>\n",
       "</table>\n",
       "</div>"
      ],
      "text/plain": [
       "          RIO.AX    TLS.AX    WES.AX    CPU.AX    SEK.AX    WOW.AX    CBA.AX  \\\n",
       "RIO.AX  1.000000  0.219045  0.313160  0.325313  0.279959  0.259660  0.403502   \n",
       "TLS.AX  0.219045  1.000000  0.432200  0.241640  0.238745  0.347203  0.386753   \n",
       "WES.AX  0.313160  0.432200  1.000000  0.380599  0.404946  0.557080  0.563177   \n",
       "CPU.AX  0.325313  0.241640  0.380599  1.000000  0.408073  0.278818  0.457882   \n",
       "SEK.AX  0.279959  0.238745  0.404946  0.408073  1.000000  0.287734  0.432428   \n",
       "WOW.AX  0.259660  0.347203  0.557080  0.278818  0.287734  1.000000  0.449792   \n",
       "CBA.AX  0.403502  0.386753  0.563177  0.457882  0.432428  0.449792  1.000000   \n",
       "WBC.AX  0.400347  0.338723  0.506858  0.462006  0.412324  0.369972  0.829803   \n",
       "\n",
       "          WBC.AX  \n",
       "RIO.AX  0.400347  \n",
       "TLS.AX  0.338723  \n",
       "WES.AX  0.506858  \n",
       "CPU.AX  0.462006  \n",
       "SEK.AX  0.412324  \n",
       "WOW.AX  0.369972  \n",
       "CBA.AX  0.829803  \n",
       "WBC.AX  1.000000  "
      ]
     },
     "execution_count": 189,
     "metadata": {},
     "output_type": "execute_result"
    }
   ],
   "source": [
    "# standardise data and show correlation matrix\n",
    "x = (log_r - log_r.mean()) / log_r.std()\n",
    "x.cov()"
   ]
  },
  {
   "cell_type": "code",
   "execution_count": 190,
   "metadata": {},
   "outputs": [
    {
     "data": {
      "text/plain": [
       "array([[1.00000014, 0.21825188, 0.331496  , 0.2472373 , 0.23655061,\n",
       "        0.26105573, 0.4072536 , 0.4047977 ],\n",
       "       [0.21825188, 0.99999953, 0.42641133, 0.25626369, 0.26213021,\n",
       "        0.35104686, 0.37964222, 0.34065717],\n",
       "       [0.331496  , 0.42641133, 1.00000006, 0.38984652, 0.40215741,\n",
       "        0.5501183 , 0.56904862, 0.50245896],\n",
       "       [0.2472373 , 0.25626369, 0.38984652, 1.00000032, 0.27564781,\n",
       "        0.30792618, 0.47024555, 0.46519775],\n",
       "       [0.23655061, 0.26213021, 0.40215741, 0.27564781, 0.99999987,\n",
       "        0.32269753, 0.43734544, 0.42027642],\n",
       "       [0.26105573, 0.35104686, 0.5501183 , 0.30792618, 0.32269753,\n",
       "        1.00000025, 0.436817  , 0.37336488],\n",
       "       [0.4072536 , 0.37964222, 0.56904862, 0.47024555, 0.43734544,\n",
       "        0.436817  , 1.00000042, 0.82849322],\n",
       "       [0.4047977 , 0.34065717, 0.50245896, 0.46519775, 0.42027642,\n",
       "        0.37336488, 0.82849322, 1.0000004 ]])"
      ]
     },
     "execution_count": 190,
     "metadata": {},
     "output_type": "execute_result"
    }
   ],
   "source": [
    "# show fitted correlation matrix using factor loadings and uniquenesss for statndardised data\n",
    "result2.fitted_cov"
   ]
  },
  {
   "cell_type": "code",
   "execution_count": 191,
   "metadata": {},
   "outputs": [
    {
     "data": {
      "text/plain": [
       "array([[1.00000014, 0.21825188, 0.331496  , 0.2472373 , 0.23655061,\n",
       "        0.26105573, 0.4072536 , 0.4047977 ],\n",
       "       [0.21825188, 0.99999953, 0.42641133, 0.25626369, 0.26213021,\n",
       "        0.35104686, 0.37964222, 0.34065717],\n",
       "       [0.331496  , 0.42641133, 1.00000006, 0.38984652, 0.40215741,\n",
       "        0.5501183 , 0.56904862, 0.50245896],\n",
       "       [0.2472373 , 0.25626369, 0.38984652, 1.00000032, 0.27564781,\n",
       "        0.30792618, 0.47024555, 0.46519775],\n",
       "       [0.23655061, 0.26213021, 0.40215741, 0.27564781, 0.99999987,\n",
       "        0.32269753, 0.43734544, 0.42027642],\n",
       "       [0.26105573, 0.35104686, 0.5501183 , 0.30792618, 0.32269753,\n",
       "        1.00000025, 0.436817  , 0.37336488],\n",
       "       [0.4072536 , 0.37964222, 0.56904862, 0.47024555, 0.43734544,\n",
       "        0.436817  , 1.00000042, 0.82849322],\n",
       "       [0.4047977 , 0.34065717, 0.50245896, 0.46519775, 0.42027642,\n",
       "        0.37336488, 0.82849322, 1.0000004 ]])"
      ]
     },
     "execution_count": 191,
     "metadata": {},
     "output_type": "execute_result"
    }
   ],
   "source": [
    "Λ = result2.loadings\n",
    "Ψ = np.diag(result2.uniqueness)\n",
    "\n",
    "Λ @ Λ.T + Ψ"
   ]
  },
  {
   "cell_type": "code",
   "execution_count": 192,
   "metadata": {},
   "outputs": [],
   "source": [
    "ll_2 = np.log(np.linalg.det(x.cov())) - np.log(np.linalg.det(result2.fitted_cov))"
   ]
  },
  {
   "cell_type": "code",
   "execution_count": 229,
   "metadata": {},
   "outputs": [
    {
     "name": "stdout",
     "output_type": "stream",
     "text": [
      "151.45926819031536\n",
      "13.0\n"
     ]
    }
   ],
   "source": [
    "m = 2\n",
    "T = data.shape[0]\n",
    "n = data.shape[1]\n",
    "lr_2 = -(T - 1 - (2 * n + 5) / 6 - 2 * m / 3) * ll_2\n",
    "df = 0.5 * ((n - m) **2 - n - m )\n",
    "print(lr_2)\n",
    "print(df)"
   ]
  },
  {
   "cell_type": "code",
   "execution_count": 194,
   "metadata": {},
   "outputs": [
    {
     "data": {
      "text/plain": [
       "1.0472640002759633e-25"
      ]
     },
     "execution_count": 194,
     "metadata": {},
     "output_type": "execute_result"
    }
   ],
   "source": [
    "# p-value of the test\n",
    "stats.chi2.sf(lr_2, df)"
   ]
  },
  {
   "cell_type": "markdown",
   "metadata": {},
   "source": [
    "The null hypothesis is that the $m=2$ factor model is able to model the 5 return series."
   ]
  },
  {
   "cell_type": "markdown",
   "metadata": {},
   "source": [
    "### iii) 3 factors (m=3)"
   ]
  },
  {
   "cell_type": "code",
   "execution_count": 207,
   "metadata": {},
   "outputs": [],
   "source": [
    "fm3 = Factor(endog=log_r, n_factor=3, method='ml')\n",
    "result3 = fm3.fit()"
   ]
  },
  {
   "cell_type": "code",
   "execution_count": 208,
   "metadata": {},
   "outputs": [
    {
     "data": {
      "text/plain": [
       "array([[-0.46088738, -0.06577492,  0.14638041],\n",
       "       [-0.43945603, -0.27898013, -0.07522118],\n",
       "       [-0.66063925, -0.46455258, -0.07039955],\n",
       "       [-0.54551006, -0.11332958,  0.4235134 ],\n",
       "       [-0.50457425, -0.17365462,  0.26979743],\n",
       "       [-0.51350661, -0.4465834 , -0.1320739 ],\n",
       "       [-0.89775102,  0.05833903, -0.05583145],\n",
       "       [-0.90889336,  0.21392261, -0.02442379]])"
      ]
     },
     "execution_count": 208,
     "metadata": {},
     "output_type": "execute_result"
    }
   ],
   "source": [
    "result3.loadings"
   ]
  },
  {
   "cell_type": "code",
   "execution_count": 215,
   "metadata": {
    "scrolled": true
   },
   "outputs": [
    {
     "data": {
      "text/html": [
       "<div>\n",
       "<style scoped>\n",
       "    .dataframe tbody tr th:only-of-type {\n",
       "        vertical-align: middle;\n",
       "    }\n",
       "\n",
       "    .dataframe tbody tr th {\n",
       "        vertical-align: top;\n",
       "    }\n",
       "\n",
       "    .dataframe thead th {\n",
       "        text-align: right;\n",
       "    }\n",
       "</style>\n",
       "<table border=\"1\" class=\"dataframe\">\n",
       "  <thead>\n",
       "    <tr style=\"text-align: right;\">\n",
       "      <th></th>\n",
       "      <th>Factor 1</th>\n",
       "      <th>Factor 2</th>\n",
       "      <th>Factor 3</th>\n",
       "    </tr>\n",
       "  </thead>\n",
       "  <tbody>\n",
       "    <tr>\n",
       "      <th>RIO.AX</th>\n",
       "      <td>0.7844</td>\n",
       "      <td>-0.1119</td>\n",
       "      <td>0.2491</td>\n",
       "    </tr>\n",
       "    <tr>\n",
       "      <th>TLS.AX</th>\n",
       "      <td>0.5343</td>\n",
       "      <td>-0.3392</td>\n",
       "      <td>-0.0914</td>\n",
       "    </tr>\n",
       "    <tr>\n",
       "      <th>WES.AX</th>\n",
       "      <td>0.8042</td>\n",
       "      <td>-0.5655</td>\n",
       "      <td>-0.0857</td>\n",
       "    </tr>\n",
       "    <tr>\n",
       "      <th>CPU.AX</th>\n",
       "      <td>0.8861</td>\n",
       "      <td>-0.1841</td>\n",
       "      <td>0.6880</td>\n",
       "    </tr>\n",
       "    <tr>\n",
       "      <th>SEK.AX</th>\n",
       "      <td>0.9601</td>\n",
       "      <td>-0.3304</td>\n",
       "      <td>0.5134</td>\n",
       "    </tr>\n",
       "    <tr>\n",
       "      <th>WOW.AX</th>\n",
       "      <td>0.6481</td>\n",
       "      <td>-0.5637</td>\n",
       "      <td>-0.1667</td>\n",
       "    </tr>\n",
       "    <tr>\n",
       "      <th>CBA.AX</th>\n",
       "      <td>1.1491</td>\n",
       "      <td>0.0747</td>\n",
       "      <td>-0.0715</td>\n",
       "    </tr>\n",
       "    <tr>\n",
       "      <th>WBC.AX</th>\n",
       "      <td>1.3154</td>\n",
       "      <td>0.3096</td>\n",
       "      <td>-0.0353</td>\n",
       "    </tr>\n",
       "  </tbody>\n",
       "</table>\n",
       "</div>"
      ],
      "text/plain": [
       "        Factor 1  Factor 2  Factor 3\n",
       "RIO.AX    0.7844   -0.1119    0.2491\n",
       "TLS.AX    0.5343   -0.3392   -0.0914\n",
       "WES.AX    0.8042   -0.5655   -0.0857\n",
       "CPU.AX    0.8861   -0.1841    0.6880\n",
       "SEK.AX    0.9601   -0.3304    0.5134\n",
       "WOW.AX    0.6481   -0.5637   -0.1667\n",
       "CBA.AX    1.1491    0.0747   -0.0715\n",
       "WBC.AX    1.3154    0.3096   -0.0353"
      ]
     },
     "execution_count": 215,
     "metadata": {},
     "output_type": "execute_result"
    }
   ],
   "source": [
    "# Actual loadings with Factor 1 by (-1)\n",
    "tbl_loading3 = pd.DataFrame({'Factor 1': round(result3.loadings[:,0] * log_r.std() * (-1), 4),\n",
    "                             'Factor 2': round(result3.loadings[:,1] * log_r.std(), 4),\n",
    "                             'Factor 3': round(result3.loadings[:,2] * log_r.std(), 4)})\n",
    "tbl_loading3"
   ]
  },
  {
   "cell_type": "code",
   "execution_count": 210,
   "metadata": {},
   "outputs": [
    {
     "data": {
      "text/html": [
       "<div>\n",
       "<style scoped>\n",
       "    .dataframe tbody tr th:only-of-type {\n",
       "        vertical-align: middle;\n",
       "    }\n",
       "\n",
       "    .dataframe tbody tr th {\n",
       "        vertical-align: top;\n",
       "    }\n",
       "\n",
       "    .dataframe thead th {\n",
       "        text-align: right;\n",
       "    }\n",
       "</style>\n",
       "<table border=\"1\" class=\"dataframe\">\n",
       "  <thead>\n",
       "    <tr style=\"text-align: right;\">\n",
       "      <th></th>\n",
       "      <th>RIO.AX</th>\n",
       "      <th>TLS.AX</th>\n",
       "      <th>WES.AX</th>\n",
       "      <th>CPU.AX</th>\n",
       "      <th>SEK.AX</th>\n",
       "      <th>WOW.AX</th>\n",
       "      <th>CBA.AX</th>\n",
       "      <th>WBC.AX</th>\n",
       "    </tr>\n",
       "  </thead>\n",
       "  <tbody>\n",
       "    <tr>\n",
       "      <th>Sample Var</th>\n",
       "      <td>2.8965</td>\n",
       "      <td>1.4780</td>\n",
       "      <td>1.4819</td>\n",
       "      <td>2.6387</td>\n",
       "      <td>3.6209</td>\n",
       "      <td>1.5931</td>\n",
       "      <td>1.6383</td>\n",
       "      <td>2.0946</td>\n",
       "    </tr>\n",
       "    <tr>\n",
       "      <th>Specific Var (m=2)</th>\n",
       "      <td>2.2793</td>\n",
       "      <td>1.0730</td>\n",
       "      <td>0.4961</td>\n",
       "      <td>1.8813</td>\n",
       "      <td>2.6418</td>\n",
       "      <td>0.8627</td>\n",
       "      <td>0.3176</td>\n",
       "      <td>0.2571</td>\n",
       "    </tr>\n",
       "    <tr>\n",
       "      <th>Specific Var (m=3)</th>\n",
       "      <td>2.2067</td>\n",
       "      <td>1.0692</td>\n",
       "      <td>0.5080</td>\n",
       "      <td>1.3463</td>\n",
       "      <td>2.3263</td>\n",
       "      <td>0.8275</td>\n",
       "      <td>0.3072</td>\n",
       "      <td>0.2672</td>\n",
       "    </tr>\n",
       "    <tr>\n",
       "      <th>Communal Var (m=2)</th>\n",
       "      <td>0.6172</td>\n",
       "      <td>0.4050</td>\n",
       "      <td>0.9858</td>\n",
       "      <td>0.7574</td>\n",
       "      <td>0.9791</td>\n",
       "      <td>0.7304</td>\n",
       "      <td>1.3206</td>\n",
       "      <td>1.8374</td>\n",
       "    </tr>\n",
       "    <tr>\n",
       "      <th>Communal Var (m=3)</th>\n",
       "      <td>0.6899</td>\n",
       "      <td>0.4088</td>\n",
       "      <td>0.9739</td>\n",
       "      <td>1.2924</td>\n",
       "      <td>1.2946</td>\n",
       "      <td>0.7656</td>\n",
       "      <td>1.3310</td>\n",
       "      <td>1.8274</td>\n",
       "    </tr>\n",
       "  </tbody>\n",
       "</table>\n",
       "</div>"
      ],
      "text/plain": [
       "                    RIO.AX  TLS.AX  WES.AX  CPU.AX  SEK.AX  WOW.AX  CBA.AX  \\\n",
       "Sample Var          2.8965  1.4780  1.4819  2.6387  3.6209  1.5931  1.6383   \n",
       "Specific Var (m=2)  2.2793  1.0730  0.4961  1.8813  2.6418  0.8627  0.3176   \n",
       "Specific Var (m=3)  2.2067  1.0692  0.5080  1.3463  2.3263  0.8275  0.3072   \n",
       "Communal Var (m=2)  0.6172  0.4050  0.9858  0.7574  0.9791  0.7304  1.3206   \n",
       "Communal Var (m=3)  0.6899  0.4088  0.9739  1.2924  1.2946  0.7656  1.3310   \n",
       "\n",
       "                    WBC.AX  \n",
       "Sample Var          2.0946  \n",
       "Specific Var (m=2)  0.2571  \n",
       "Specific Var (m=3)  0.2672  \n",
       "Communal Var (m=2)  1.8374  \n",
       "Communal Var (m=3)  1.8274  "
      ]
     },
     "execution_count": 210,
     "metadata": {},
     "output_type": "execute_result"
    }
   ],
   "source": [
    "ser2_3 = result3.uniqueness * log_r.var() \n",
    "ser_3 = np.sqrt(ser2_3)\n",
    "r2_3 = result3.communality * log_r.var()\n",
    "\n",
    "\n",
    "tbl_r_3 = pd.DataFrame({'Sample Var': log_r.var().round(4),\n",
    "                        'Specific Var (m=2)' : ser2_2.round(4),\n",
    "                        'Specific Var (m=3)' : ser2_3.round(4),\n",
    "                        'Communal Var (m=2)': r2_2.round(4),\n",
    "                        'Communal Var (m=3)': r2_3.round(4)})\n",
    "tbl_r_3.T"
   ]
  },
  {
   "cell_type": "code",
   "execution_count": 226,
   "metadata": {},
   "outputs": [
    {
     "data": {
      "text/plain": [
       "0.49212890998734493"
      ]
     },
     "execution_count": 226,
     "metadata": {},
     "output_type": "execute_result"
    }
   ],
   "source": [
    "#Total data variance captured by FM m=3\n",
    "total_data_variance = np.sum(log_r.var())\n",
    "total_communal_variance = np.sum(result3.communality * log_r.var())\n",
    "total_communal_variance / total_data_variance"
   ]
  },
  {
   "cell_type": "code",
   "execution_count": 230,
   "metadata": {},
   "outputs": [],
   "source": [
    "ll_3 = np.log(np.linalg.det(x.cov())) - np.log(np.linalg.det(result3.fitted_cov))"
   ]
  },
  {
   "cell_type": "code",
   "execution_count": 231,
   "metadata": {},
   "outputs": [
    {
     "name": "stdout",
     "output_type": "stream",
     "text": [
      "151.41929741293455\n",
      "7.0\n"
     ]
    }
   ],
   "source": [
    "m = 3\n",
    "T = data.shape[0]\n",
    "n = data.shape[1]\n",
    "lr_3 = -(T - 1 - (2 * n + 5) / 6 - 2 * m / 3) * ll_2\n",
    "df = 0.5 * ((n - m) **2 - n - m )\n",
    "print(lr_3)\n",
    "print(df)"
   ]
  },
  {
   "cell_type": "code",
   "execution_count": 232,
   "metadata": {},
   "outputs": [
    {
     "data": {
      "text/plain": [
       "2.043643201902064e-29"
      ]
     },
     "execution_count": 232,
     "metadata": {},
     "output_type": "execute_result"
    }
   ],
   "source": [
    "# p-value of the test\n",
    "stats.chi2.sf(lr_3, df)"
   ]
  },
  {
   "cell_type": "markdown",
   "metadata": {},
   "source": [
    "### iv) 4 factors (m=4)"
   ]
  },
  {
   "cell_type": "code",
   "execution_count": 212,
   "metadata": {},
   "outputs": [
    {
     "name": "stderr",
     "output_type": "stream",
     "text": [
      "/opt/anaconda3/lib/python3.8/site-packages/statsmodels/multivariate/factor.py:419: UserWarning: Fitting did not converge\n",
      "  warnings.warn(\"Fitting did not converge\")\n"
     ]
    }
   ],
   "source": [
    "fm4 = Factor(endog=log_r, n_factor=4, method='ml')\n",
    "result4 = fm4.fit()"
   ]
  },
  {
   "cell_type": "code",
   "execution_count": 213,
   "metadata": {},
   "outputs": [
    {
     "data": {
      "text/plain": [
       "array([[-4.00919762e-01,  2.19225343e-01, -2.93773331e-02,\n",
       "         1.65495303e-01],\n",
       "       [-3.39085013e-01,  3.65640409e-01, -1.24969311e-01,\n",
       "        -7.60583651e-02],\n",
       "       [-5.06930736e-01,  5.87569562e-01, -3.04575850e-01,\n",
       "        -1.10475548e-01],\n",
       "       [-4.62266958e-01,  2.84457706e-01, -9.70820581e-02,\n",
       "         4.42682752e-01],\n",
       "       [-4.12826557e-01,  3.18961632e-01, -9.95959156e-02,\n",
       "         2.66180375e-01],\n",
       "       [-3.70215552e-01,  5.07394511e-01, -1.89111542e-01,\n",
       "        -1.26911516e-01],\n",
       "       [-8.29942889e-01,  3.75214889e-01,  2.61345963e-01,\n",
       "        -1.48566198e-02],\n",
       "       [-1.00023959e+00, -1.85590852e-04, -4.47127939e-05,\n",
       "        -8.42257811e-06]])"
      ]
     },
     "execution_count": 213,
     "metadata": {},
     "output_type": "execute_result"
    }
   ],
   "source": [
    "result4.loadings"
   ]
  },
  {
   "cell_type": "code",
   "execution_count": 216,
   "metadata": {},
   "outputs": [
    {
     "data": {
      "text/html": [
       "<div>\n",
       "<style scoped>\n",
       "    .dataframe tbody tr th:only-of-type {\n",
       "        vertical-align: middle;\n",
       "    }\n",
       "\n",
       "    .dataframe tbody tr th {\n",
       "        vertical-align: top;\n",
       "    }\n",
       "\n",
       "    .dataframe thead th {\n",
       "        text-align: right;\n",
       "    }\n",
       "</style>\n",
       "<table border=\"1\" class=\"dataframe\">\n",
       "  <thead>\n",
       "    <tr style=\"text-align: right;\">\n",
       "      <th></th>\n",
       "      <th>Factor 1</th>\n",
       "      <th>Factor 2</th>\n",
       "      <th>Factor 3</th>\n",
       "      <th>Factor 4</th>\n",
       "    </tr>\n",
       "  </thead>\n",
       "  <tbody>\n",
       "    <tr>\n",
       "      <th>RIO.AX</th>\n",
       "      <td>0.6823</td>\n",
       "      <td>0.3731</td>\n",
       "      <td>-0.0500</td>\n",
       "      <td>0.2817</td>\n",
       "    </tr>\n",
       "    <tr>\n",
       "      <th>TLS.AX</th>\n",
       "      <td>0.4122</td>\n",
       "      <td>0.4445</td>\n",
       "      <td>-0.1519</td>\n",
       "      <td>-0.0925</td>\n",
       "    </tr>\n",
       "    <tr>\n",
       "      <th>WES.AX</th>\n",
       "      <td>0.6171</td>\n",
       "      <td>0.7153</td>\n",
       "      <td>-0.3708</td>\n",
       "      <td>-0.1345</td>\n",
       "    </tr>\n",
       "    <tr>\n",
       "      <th>CPU.AX</th>\n",
       "      <td>0.7509</td>\n",
       "      <td>0.4621</td>\n",
       "      <td>-0.1577</td>\n",
       "      <td>0.7191</td>\n",
       "    </tr>\n",
       "    <tr>\n",
       "      <th>SEK.AX</th>\n",
       "      <td>0.7856</td>\n",
       "      <td>0.6069</td>\n",
       "      <td>-0.1895</td>\n",
       "      <td>0.5065</td>\n",
       "    </tr>\n",
       "    <tr>\n",
       "      <th>WOW.AX</th>\n",
       "      <td>0.4673</td>\n",
       "      <td>0.6404</td>\n",
       "      <td>-0.2387</td>\n",
       "      <td>-0.1602</td>\n",
       "    </tr>\n",
       "    <tr>\n",
       "      <th>CBA.AX</th>\n",
       "      <td>1.0623</td>\n",
       "      <td>0.4803</td>\n",
       "      <td>0.3345</td>\n",
       "      <td>-0.0190</td>\n",
       "    </tr>\n",
       "    <tr>\n",
       "      <th>WBC.AX</th>\n",
       "      <td>1.4476</td>\n",
       "      <td>-0.0003</td>\n",
       "      <td>-0.0001</td>\n",
       "      <td>-0.0000</td>\n",
       "    </tr>\n",
       "  </tbody>\n",
       "</table>\n",
       "</div>"
      ],
      "text/plain": [
       "        Factor 1  Factor 2  Factor 3  Factor 4\n",
       "RIO.AX    0.6823    0.3731   -0.0500    0.2817\n",
       "TLS.AX    0.4122    0.4445   -0.1519   -0.0925\n",
       "WES.AX    0.6171    0.7153   -0.3708   -0.1345\n",
       "CPU.AX    0.7509    0.4621   -0.1577    0.7191\n",
       "SEK.AX    0.7856    0.6069   -0.1895    0.5065\n",
       "WOW.AX    0.4673    0.6404   -0.2387   -0.1602\n",
       "CBA.AX    1.0623    0.4803    0.3345   -0.0190\n",
       "WBC.AX    1.4476   -0.0003   -0.0001   -0.0000"
      ]
     },
     "execution_count": 216,
     "metadata": {},
     "output_type": "execute_result"
    }
   ],
   "source": [
    "# Actual loadings with Factor 1 by (-1)\n",
    "tbl_loading4 = pd.DataFrame({'Factor 1': round(result4.loadings[:,0] * log_r.std() * (-1), 4),\n",
    "                             'Factor 2': round(result4.loadings[:,1] * log_r.std(), 4),\n",
    "                             'Factor 3': round(result4.loadings[:,2] * log_r.std(), 4),\n",
    "                             'Factor 4': round(result4.loadings[:,3] * log_r.std(), 4)})\n",
    "tbl_loading4"
   ]
  },
  {
   "cell_type": "code",
   "execution_count": 223,
   "metadata": {},
   "outputs": [
    {
     "data": {
      "text/html": [
       "<div>\n",
       "<style scoped>\n",
       "    .dataframe tbody tr th:only-of-type {\n",
       "        vertical-align: middle;\n",
       "    }\n",
       "\n",
       "    .dataframe tbody tr th {\n",
       "        vertical-align: top;\n",
       "    }\n",
       "\n",
       "    .dataframe thead th {\n",
       "        text-align: right;\n",
       "    }\n",
       "</style>\n",
       "<table border=\"1\" class=\"dataframe\">\n",
       "  <thead>\n",
       "    <tr style=\"text-align: right;\">\n",
       "      <th></th>\n",
       "      <th>RIO.AX</th>\n",
       "      <th>TLS.AX</th>\n",
       "      <th>WES.AX</th>\n",
       "      <th>CPU.AX</th>\n",
       "      <th>SEK.AX</th>\n",
       "      <th>WOW.AX</th>\n",
       "      <th>CBA.AX</th>\n",
       "      <th>WBC.AX</th>\n",
       "    </tr>\n",
       "  </thead>\n",
       "  <tbody>\n",
       "    <tr>\n",
       "      <th>Sample Var</th>\n",
       "      <td>2.8965</td>\n",
       "      <td>1.4780</td>\n",
       "      <td>1.4819</td>\n",
       "      <td>2.6387</td>\n",
       "      <td>3.6209</td>\n",
       "      <td>1.5931</td>\n",
       "      <td>1.6383</td>\n",
       "      <td>2.0946</td>\n",
       "    </tr>\n",
       "    <tr>\n",
       "      <th>Specific Var (m=3)</th>\n",
       "      <td>2.2067</td>\n",
       "      <td>1.0692</td>\n",
       "      <td>0.5080</td>\n",
       "      <td>1.3463</td>\n",
       "      <td>2.3263</td>\n",
       "      <td>0.8275</td>\n",
       "      <td>0.3072</td>\n",
       "      <td>0.2672</td>\n",
       "    </tr>\n",
       "    <tr>\n",
       "      <th>Specific Var (m=4)</th>\n",
       "      <td>2.2112</td>\n",
       "      <td>1.0789</td>\n",
       "      <td>0.4341</td>\n",
       "      <td>1.3193</td>\n",
       "      <td>2.3452</td>\n",
       "      <td>0.8821</td>\n",
       "      <td>0.1675</td>\n",
       "      <td>0.0001</td>\n",
       "    </tr>\n",
       "    <tr>\n",
       "      <th>Communal Var (m=3)</th>\n",
       "      <td>0.6899</td>\n",
       "      <td>0.4088</td>\n",
       "      <td>0.9739</td>\n",
       "      <td>1.2924</td>\n",
       "      <td>1.2946</td>\n",
       "      <td>0.7656</td>\n",
       "      <td>1.3310</td>\n",
       "      <td>1.8274</td>\n",
       "    </tr>\n",
       "    <tr>\n",
       "      <th>Communal Var (m=4)</th>\n",
       "      <td>0.6853</td>\n",
       "      <td>0.3991</td>\n",
       "      <td>1.0478</td>\n",
       "      <td>1.3194</td>\n",
       "      <td>1.2757</td>\n",
       "      <td>0.7110</td>\n",
       "      <td>1.4708</td>\n",
       "      <td>2.0945</td>\n",
       "    </tr>\n",
       "  </tbody>\n",
       "</table>\n",
       "</div>"
      ],
      "text/plain": [
       "                    RIO.AX  TLS.AX  WES.AX  CPU.AX  SEK.AX  WOW.AX  CBA.AX  \\\n",
       "Sample Var          2.8965  1.4780  1.4819  2.6387  3.6209  1.5931  1.6383   \n",
       "Specific Var (m=3)  2.2067  1.0692  0.5080  1.3463  2.3263  0.8275  0.3072   \n",
       "Specific Var (m=4)  2.2112  1.0789  0.4341  1.3193  2.3452  0.8821  0.1675   \n",
       "Communal Var (m=3)  0.6899  0.4088  0.9739  1.2924  1.2946  0.7656  1.3310   \n",
       "Communal Var (m=4)  0.6853  0.3991  1.0478  1.3194  1.2757  0.7110  1.4708   \n",
       "\n",
       "                    WBC.AX  \n",
       "Sample Var          2.0946  \n",
       "Specific Var (m=3)  0.2672  \n",
       "Specific Var (m=4)  0.0001  \n",
       "Communal Var (m=3)  1.8274  \n",
       "Communal Var (m=4)  2.0945  "
      ]
     },
     "execution_count": 223,
     "metadata": {},
     "output_type": "execute_result"
    }
   ],
   "source": [
    "ser2_4 = result4.uniqueness * log_r.var() \n",
    "ser_4 = np.sqrt(ser2_4)\n",
    "r2_4 = result4.communality * log_r.var()\n",
    "\n",
    "\n",
    "tbl_r_4 = pd.DataFrame({'Sample Var': log_r.var().round(4),\n",
    "                        'Specific Var (m=3)' : ser2_3.round(4),\n",
    "                        'Specific Var (m=4)' : ser2_4.round(4),\n",
    "                        'Communal Var (m=3)': r2_3.round(4),\n",
    "                        'Communal Var (m=4)': r2_4.round(4)})\n",
    "tbl_r_4.T"
   ]
  },
  {
   "cell_type": "code",
   "execution_count": 227,
   "metadata": {},
   "outputs": [
    {
     "data": {
      "text/plain": [
       "0.5162022615682472"
      ]
     },
     "execution_count": 227,
     "metadata": {},
     "output_type": "execute_result"
    }
   ],
   "source": [
    "#Total data variance captured by FM m=4\n",
    "total_data_variance = np.sum(log_r.var())\n",
    "total_communal_variance = np.sum(result4.communality * log_r.var())\n",
    "total_communal_variance / total_data_variance"
   ]
  },
  {
   "cell_type": "markdown",
   "metadata": {},
   "source": [
    "## Question 2: Forecasting"
   ]
  },
  {
   "cell_type": "code",
   "execution_count": 25,
   "metadata": {},
   "outputs": [
    {
     "data": {
      "text/html": [
       "<div>\n",
       "<style scoped>\n",
       "    .dataframe tbody tr th:only-of-type {\n",
       "        vertical-align: middle;\n",
       "    }\n",
       "\n",
       "    .dataframe tbody tr th {\n",
       "        vertical-align: top;\n",
       "    }\n",
       "\n",
       "    .dataframe thead th {\n",
       "        text-align: right;\n",
       "    }\n",
       "</style>\n",
       "<table border=\"1\" class=\"dataframe\">\n",
       "  <thead>\n",
       "    <tr style=\"text-align: right;\">\n",
       "      <th></th>\n",
       "      <th>TLS.AX</th>\n",
       "      <th>WES.AX</th>\n",
       "      <th>CPU.AX</th>\n",
       "    </tr>\n",
       "    <tr>\n",
       "      <th>Date</th>\n",
       "      <th></th>\n",
       "      <th></th>\n",
       "      <th></th>\n",
       "    </tr>\n",
       "  </thead>\n",
       "  <tbody>\n",
       "    <tr>\n",
       "      <th>2011-09-27</th>\n",
       "      <td>0.655750</td>\n",
       "      <td>3.483130</td>\n",
       "      <td>1.871724</td>\n",
       "    </tr>\n",
       "    <tr>\n",
       "      <th>2011-09-28</th>\n",
       "      <td>0.975614</td>\n",
       "      <td>1.040520</td>\n",
       "      <td>0.922870</td>\n",
       "    </tr>\n",
       "    <tr>\n",
       "      <th>2011-09-29</th>\n",
       "      <td>0.000000</td>\n",
       "      <td>-0.692494</td>\n",
       "      <td>-0.790514</td>\n",
       "    </tr>\n",
       "    <tr>\n",
       "      <th>2011-09-30</th>\n",
       "      <td>0.323089</td>\n",
       "      <td>-0.221343</td>\n",
       "      <td>-1.197638</td>\n",
       "    </tr>\n",
       "    <tr>\n",
       "      <th>2011-10-04</th>\n",
       "      <td>-3.278966</td>\n",
       "      <td>-5.031071</td>\n",
       "      <td>-4.238481</td>\n",
       "    </tr>\n",
       "    <tr>\n",
       "      <th>...</th>\n",
       "      <td>...</td>\n",
       "      <td>...</td>\n",
       "      <td>...</td>\n",
       "    </tr>\n",
       "    <tr>\n",
       "      <th>2021-09-20</th>\n",
       "      <td>-1.025649</td>\n",
       "      <td>-0.665613</td>\n",
       "      <td>-2.247279</td>\n",
       "    </tr>\n",
       "    <tr>\n",
       "      <th>2021-09-21</th>\n",
       "      <td>1.280426</td>\n",
       "      <td>0.857469</td>\n",
       "      <td>1.402887</td>\n",
       "    </tr>\n",
       "    <tr>\n",
       "      <th>2021-09-22</th>\n",
       "      <td>0.507615</td>\n",
       "      <td>-0.279183</td>\n",
       "      <td>-1.096237</td>\n",
       "    </tr>\n",
       "    <tr>\n",
       "      <th>2021-09-23</th>\n",
       "      <td>0.756623</td>\n",
       "      <td>0.453282</td>\n",
       "      <td>3.608331</td>\n",
       "    </tr>\n",
       "    <tr>\n",
       "      <th>2021-09-24</th>\n",
       "      <td>-0.756623</td>\n",
       "      <td>-0.226384</td>\n",
       "      <td>5.571348</td>\n",
       "    </tr>\n",
       "  </tbody>\n",
       "</table>\n",
       "<p>2531 rows × 3 columns</p>\n",
       "</div>"
      ],
      "text/plain": [
       "              TLS.AX    WES.AX    CPU.AX\n",
       "Date                                    \n",
       "2011-09-27  0.655750  3.483130  1.871724\n",
       "2011-09-28  0.975614  1.040520  0.922870\n",
       "2011-09-29  0.000000 -0.692494 -0.790514\n",
       "2011-09-30  0.323089 -0.221343 -1.197638\n",
       "2011-10-04 -3.278966 -5.031071 -4.238481\n",
       "...              ...       ...       ...\n",
       "2021-09-20 -1.025649 -0.665613 -2.247279\n",
       "2021-09-21  1.280426  0.857469  1.402887\n",
       "2021-09-22  0.507615 -0.279183 -1.096237\n",
       "2021-09-23  0.756623  0.453282  3.608331\n",
       "2021-09-24 -0.756623 -0.226384  5.571348\n",
       "\n",
       "[2531 rows x 3 columns]"
      ]
     },
     "execution_count": 25,
     "metadata": {},
     "output_type": "execute_result"
    }
   ],
   "source": [
    "# Data seperation\n",
    "\n",
    "data_new = log_r.iloc[:,1:4]\n",
    "data_new"
   ]
  },
  {
   "cell_type": "code",
   "execution_count": 26,
   "metadata": {},
   "outputs": [
    {
     "name": "stdout",
     "output_type": "stream",
     "text": [
      "531\n"
     ]
    }
   ],
   "source": [
    "# No. of forecasts \n",
    "r = data_new\n",
    "n_all = len(r)\n",
    "n_wind = 2000 #fixed window for data\n",
    "n_forecast = len(r) - n_wind\n",
    "print(n_forecast)"
   ]
  },
  {
   "cell_type": "code",
   "execution_count": 27,
   "metadata": {},
   "outputs": [
    {
     "name": "stdout",
     "output_type": "stream",
     "text": [
      "                               SARIMAX Results                                \n",
      "==============================================================================\n",
      "Dep. Variable:                      y   No. Observations:                 1999\n",
      "Model:                          ARIMA   Log Likelihood               -3077.622\n",
      "Date:                Mon, 04 Oct 2021   AIC                           6161.243\n",
      "Time:                        17:02:42   BIC                           6178.045\n",
      "Sample:                             0   HQIC                          6167.413\n",
      "                               - 1999                                         \n",
      "Covariance Type:                  opg                                         \n",
      "==============================================================================\n",
      "                 coef    std err          z      P>|z|      [0.025      0.975]\n",
      "------------------------------------------------------------------------------\n",
      "const          0.0313      0.026      1.212      0.225      -0.019       0.082\n",
      "x1            -0.0321      0.015     -2.183      0.029      -0.061      -0.003\n",
      "sigma2         1.2729      0.017     73.254      0.000       1.239       1.307\n",
      "===================================================================================\n",
      "Ljung-Box (L1) (Q):                   0.00   Jarque-Bera (JB):              7337.95\n",
      "Prob(Q):                              0.96   Prob(JB):                         0.00\n",
      "Heteroskedasticity (H):               2.62   Skew:                            -0.72\n",
      "Prob(H) (two-sided):                  0.00   Kurtosis:                        12.28\n",
      "===================================================================================\n",
      "\n",
      "Warnings:\n",
      "[1] Covariance matrix calculated using the outer product of gradients (complex-step).\n"
     ]
    }
   ],
   "source": [
    "# Model 4 Regression for Asset 1\n",
    "x = log_r.iloc[:-n_forecast-1,0].values #lagged one return\n",
    "y = r.iloc[1:-n_forecast,0].values\n",
    "reg_TLS = ARIMA(y, exog=x,order=(0,0,0)).fit()\n",
    "print(reg_TLS.summary())"
   ]
  },
  {
   "cell_type": "code",
   "execution_count": 28,
   "metadata": {},
   "outputs": [
    {
     "name": "stdout",
     "output_type": "stream",
     "text": [
      "                               SARIMAX Results                                \n",
      "==============================================================================\n",
      "Dep. Variable:                      y   No. Observations:                 1999\n",
      "Model:                          ARIMA   Log Likelihood               -2978.246\n",
      "Date:                Mon, 04 Oct 2021   AIC                           5962.492\n",
      "Time:                        17:02:44   BIC                           5979.294\n",
      "Sample:                             0   HQIC                          5968.662\n",
      "                               - 1999                                         \n",
      "Covariance Type:                  opg                                         \n",
      "==============================================================================\n",
      "                 coef    std err          z      P>|z|      [0.025      0.975]\n",
      "------------------------------------------------------------------------------\n",
      "const          0.0496      0.024      2.059      0.039       0.002       0.097\n",
      "x1             0.0226      0.013      1.688      0.091      -0.004       0.049\n",
      "sigma2         1.1524      0.022     51.465      0.000       1.109       1.196\n",
      "===================================================================================\n",
      "Ljung-Box (L1) (Q):                   0.25   Jarque-Bera (JB):               936.56\n",
      "Prob(Q):                              0.62   Prob(JB):                         0.00\n",
      "Heteroskedasticity (H):               1.03   Skew:                            -0.18\n",
      "Prob(H) (two-sided):                  0.69   Kurtosis:                         6.33\n",
      "===================================================================================\n",
      "\n",
      "Warnings:\n",
      "[1] Covariance matrix calculated using the outer product of gradients (complex-step).\n"
     ]
    }
   ],
   "source": [
    "# Model 4 Regression for Asset 2\n",
    "x = log_r.iloc[:-n_forecast-1,0].values #lagged one return\n",
    "y = r.iloc[1:-n_forecast,1].values\n",
    "reg_WES = ARIMA(y, exog=x,order=(0,0,0)).fit()\n",
    "print(reg_WES.summary()) "
   ]
  },
  {
   "cell_type": "code",
   "execution_count": 29,
   "metadata": {},
   "outputs": [
    {
     "name": "stdout",
     "output_type": "stream",
     "text": [
      "                               SARIMAX Results                                \n",
      "==============================================================================\n",
      "Dep. Variable:                      y   No. Observations:                 1999\n",
      "Model:                          ARIMA   Log Likelihood               -3594.597\n",
      "Date:                Mon, 04 Oct 2021   AIC                           7195.194\n",
      "Time:                        17:02:45   BIC                           7211.995\n",
      "Sample:                             0   HQIC                          7201.363\n",
      "                               - 1999                                         \n",
      "Covariance Type:                  opg                                         \n",
      "==============================================================================\n",
      "                 coef    std err          z      P>|z|      [0.025      0.975]\n",
      "------------------------------------------------------------------------------\n",
      "const          0.0451      0.033      1.372      0.170      -0.019       0.110\n",
      "x1             0.0200      0.016      1.235      0.217      -0.012       0.052\n",
      "sigma2         2.1351      0.029     74.567      0.000       2.079       2.191\n",
      "===================================================================================\n",
      "Ljung-Box (L1) (Q):                   0.37   Jarque-Bera (JB):              8653.42\n",
      "Prob(Q):                              0.54   Prob(JB):                         0.00\n",
      "Heteroskedasticity (H):               0.82   Skew:                             0.23\n",
      "Prob(H) (two-sided):                  0.01   Kurtosis:                        13.18\n",
      "===================================================================================\n",
      "\n",
      "Warnings:\n",
      "[1] Covariance matrix calculated using the outer product of gradients (complex-step).\n"
     ]
    }
   ],
   "source": [
    "# Model 4 Regression for Asset 3\n",
    "x = log_r.iloc[:-n_forecast-1,0].values #lagged one return\n",
    "y = r.iloc[1:-n_forecast,2].values\n",
    "reg_CPU = ARIMA(y, exog=x,order=(0,0,0)).fit()\n",
    "print(reg_CPU.summary())"
   ]
  },
  {
   "cell_type": "markdown",
   "metadata": {},
   "source": [
    "## Forecasting models for Asset 1"
   ]
  },
  {
   "cell_type": "code",
   "execution_count": null,
   "metadata": {},
   "outputs": [],
   "source": [
    "fnaive_TLS = np.empty(n_forecast)\n",
    "f15days_TLS = np.empty(n_forecast)\n",
    "farma_TLS = np.empty(n_forecast)\n",
    "freg_TLS = np.empty(n_forecast)\n",
    "\n",
    "from tqdm.notebook import tqdm  #indicate progress\n",
    "\n",
    "for i in tqdm(range(n_forecast)):    #moving data window\n",
    "    y = r.iloc[(i + 1):(-n_forecast + i),0].values\n",
    "    x = log_r.iloc[i:(-n_forecast+i-1),0].values \n",
    "    x_new = log_r.iloc[(-n_forecast+i-1),0]\n",
    "    \n",
    "\n",
    "#Naive forecasting\n",
    "fnaive_TLS[i] = y[-1]\n",
    "#15 days average\n",
    "f15days_TLS[i] = y[-15:].mean()\n",
    "#ARMA(1,1)\n",
    "arma_TLS = ARIMA(y,order=(1,0,1)).fit()\n",
    "#Regression\n",
    "reg_TLS = ARIMA(y,exog=x ,order=(0,0,0)).fit()\n",
    "\n",
    "# Results of ARMA and Regression models\n",
    "freg_TLS[i] = reg_TLS.forecast(exog = x_new, step=1)\n",
    "farma_TLS[i] = arma_TLS.forecast(step=1)\n",
    "\n",
    "#Model 5\n",
    "ffc_TLS = (f15days_TLS+farma_TLS+freg_TLS)/3"
   ]
  },
  {
   "cell_type": "code",
   "execution_count": 53,
   "metadata": {},
   "outputs": [],
   "source": [
    "#Accuracy measures\n",
    "\n",
    "def loss_func(y_obs, y_hat):\n",
    "    rmse = np.sort(np.mean((y_hat - y_obs) ** 2))\n",
    "    mad = np.mean(np.abs(y_hat - y_obs))\n",
    "    return(rmse, mad)"
   ]
  },
  {
   "cell_type": "code",
   "execution_count": null,
   "metadata": {},
   "outputs": [],
   "source": [
    "f_TLS = np.vstack([fnaive_TLS, f15days_TLS, farma_TLS, freg_TLS,ffc_TLS]).T\n",
    "\n",
    "l = np.empty((2,5))\n",
    "\n",
    "for i in range(5):\n",
    "    l[0,i],l[1,i] = loss_func(r.iloc[-n_forecast:,0].values, f_TLS[:,i])\n",
    "c_name = ['Native', '15days', 'ARMA(1,1)', 'Reg', 'Combine Average']\n",
    "tbl_TLS = pd.DataFrame(l.round(4), columns = c_name, index=['RMSE', 'MAD'])                          \n",
    "tbl_TLS      "
   ]
  },
  {
   "cell_type": "code",
   "execution_count": null,
   "metadata": {},
   "outputs": [],
   "source": [
    "#M-Z Regression\n",
    "fr_TLS = r.iloc[-n_forecast:, 0]\n",
    "\n",
    "dff_TLS = pd.DataFrame({\n",
    "    'r_TLS_real': fr_TLS,\n",
    "    'r_TLS_native': f_TLS[:,0],\n",
    "    'r_TLS_15days': f_TLS[:,1],\n",
    "    'r_TLS_arma11': f_TLS[:,2],\n",
    "    'r_TLS_reg': f_TLS[:,3],\n",
    "    'r_TLS_fm': f_TLS[:,4]})\n",
    "dff_TLS"
   ]
  },
  {
   "cell_type": "markdown",
   "metadata": {},
   "source": [
    "## Forecasting models for Asset 2"
   ]
  },
  {
   "cell_type": "code",
   "execution_count": null,
   "metadata": {},
   "outputs": [],
   "source": [
    "fnaive_WES = np.empty(n_forecast)\n",
    "f15days_WES = np.empty(n_forecast)\n",
    "farma_WES = np.empty(n_forecast)\n",
    "freg_WES = np.empty(n_forecast)\n",
    "\n",
    "from tqdm.notebook import tqdm  #indicate progress\n",
    "\n",
    "for i in tqdm(range(n_forecast)):    #moving data window\n",
    "    y = r.iloc[(i + 1):(-n_forecast + i),0].values\n",
    "    x = log_r.iloc[i:(-n_forecast+i-1),0].values \n",
    "    x_new = log_r.iloc[(-n_forecast+i-1),0]\n",
    "    \n",
    "\n",
    "#Naive forecasting\n",
    "fnaive_WES[i] = y[-1]\n",
    "#15 days average\n",
    "f15days_WES[i] = y[-15:].mean()\n",
    "#ARMA(1,1)\n",
    "arma_WES = ARIMA(y,order=(1,0,1)).fit()\n",
    "#Regression\n",
    "reg_WES = ARIMA(y,exog=x ,order=(0,0,0)).fit()\n",
    "\n",
    "# Results of ARMA and Regression models\n",
    "freg_WES[i] = reg_WES.forecast(exog = x_new, step=1)\n",
    "farma_WES[i] = arma_WES.forecast(step=1)\n",
    "\n",
    "#Model 5\n",
    "ffc_WES = (f15days_WES+farma_WES+freg_WES)/3"
   ]
  },
  {
   "cell_type": "code",
   "execution_count": null,
   "metadata": {},
   "outputs": [],
   "source": [
    "f_WES = np.vstack([fnaive_WES, f15days_WES, farma_WES, freg_WES,ffc_WES]).T\n",
    "\n",
    "l = np.empty((2,5))\n",
    "\n",
    "for i in range(5):\n",
    "    l[0,i],l[1,i] = loss_func(r.iloc[-n_forecast:,0].values, f_TLS[:,i])\n",
    "c_name = ['Native', '15days', 'ARMA(1,1)', 'Reg', 'Combine Average']\n",
    "tbl_WES = pd.DataFrame(l.round(4), columns = c_name, index=['RMSE', 'MAD'])                          \n",
    "tbl_WES  "
   ]
  },
  {
   "cell_type": "code",
   "execution_count": null,
   "metadata": {},
   "outputs": [],
   "source": [
    "#M-Z Regression\n",
    "fr_WES = r.iloc[-n_forecast:, 0]\n",
    "\n",
    "dff_WES = pd.DataFrame({\n",
    "    'r_WES_real': fr_WES,\n",
    "    'r_WES_native': f_WES[:,0],\n",
    "    'r_WES_15days': f_WES[:,1],\n",
    "    'r_WES_arma11': f_WES[:,2],\n",
    "    'r_WES_reg': f_WES[:,3],\n",
    "    'r_WES_fm': f_WES[:,4]})\n",
    "dff_WES"
   ]
  },
  {
   "cell_type": "markdown",
   "metadata": {},
   "source": [
    "## Forecasting models for Asset 3"
   ]
  },
  {
   "cell_type": "code",
   "execution_count": null,
   "metadata": {},
   "outputs": [],
   "source": [
    "fnaive_CPU = np.empty(n_forecast)\n",
    "f15days_CPU = np.empty(n_forecast)\n",
    "farma_CPU = np.empty(n_forecast)\n",
    "freg_CPU = np.empty(n_forecast)\n",
    "\n",
    "from tqdm.notebook import tqdm  #indicate progress\n",
    "\n",
    "for i in tqdm(range(n_forecast)):    #moving data window\n",
    "    y = r.iloc[(i + 1):(-n_forecast + i),0].values\n",
    "    x = log_r.iloc[i:(-n_forecast+i-1),0].values \n",
    "    x_new = log_r.iloc[(-n_forecast+i-1),0]\n",
    "    \n",
    "\n",
    "#Naive forecasting\n",
    "fnaive_CPU[i] = y[-1]\n",
    "#15 days average\n",
    "f15days_CPU[i] = y[-15:].mean()\n",
    "#ARMA(1,1)\n",
    "arma_CPU = ARIMA(y,order=(1,0,1)).fit()\n",
    "#Regression\n",
    "reg_CPU = ARIMA(y,exog=x ,order=(0,0,0)).fit()\n",
    "\n",
    "# Results of ARMA and Regression models\n",
    "freg_CPU[i] = reg_CPU.forecast(exog = x_new, step=1)\n",
    "farma_CPU[i] = arma_CPU.forecast(step=1)\n",
    "\n",
    "#Model 5\n",
    "ffc_CPU = (f15days_CPU+farma_CPU+freg_CPU)/3"
   ]
  },
  {
   "cell_type": "code",
   "execution_count": null,
   "metadata": {},
   "outputs": [],
   "source": [
    "f_CPU = np.vstack([fnaive_CPU, f15days_CPU, farma_CPU, freg_CPU,ffc_CPU]).T\n",
    "\n",
    "l = np.empty((2,5))\n",
    "\n",
    "for i in range(5):\n",
    "    l[0,i],l[1,i] = loss_func(r.iloc[-n_forecast:,0].values, f_TLS[:,i])\n",
    "c_name = ['Native', '15days', 'ARMA(1,1)', 'Reg', 'Combine Average']\n",
    "tbl_CPU = pd.DataFrame(l.round(4), columns = c_name, index=['RMSE', 'MAD'])                          \n",
    "tbl_CPU "
   ]
  },
  {
   "cell_type": "code",
   "execution_count": null,
   "metadata": {},
   "outputs": [],
   "source": [
    "#M-Z Regression\n",
    "fr_CPU = r.iloc[-n_forecast:, 0]\n",
    "\n",
    "dff_CPU = pd.DataFrame({\n",
    "    'r_CPU_real': fr_CPU,\n",
    "    'r_CPU_native': f_CPU[:,0],\n",
    "    'r_CPU_15days': f_CPU[:,1],\n",
    "    'r_CPU_arma11': f_CPU[:,2],\n",
    "    'r_CPU_reg': f_CPU[:,3],\n",
    "    'r_CPU_fm': f_CPU[:,4]})\n",
    "dff_CPU"
   ]
  },
  {
   "cell_type": "markdown",
   "metadata": {},
   "source": [
    "## Question 2: Weights"
   ]
  },
  {
   "cell_type": "code",
   "execution_count": 60,
   "metadata": {},
   "outputs": [
    {
     "name": "stdout",
     "output_type": "stream",
     "text": [
      "0.04891324814834484\n",
      "1.4078813254351055\n"
     ]
    }
   ],
   "source": [
    "#Strategy 1\n",
    "\n",
    "r_fore = r.iloc[-n_forecast:, :]\n",
    "r_eq_wt = np.mean(r_fore, axis=1)\n",
    "mn_eq_wt = np.mean(r_eq_wt)\n",
    "sd_eq_wt = np.std(r_eq_wt, ddof=1)\n",
    "print(mn_eq_wt)\n",
    "print(sd_eq_wt)"
   ]
  },
  {
   "cell_type": "code",
   "execution_count": null,
   "metadata": {},
   "outputs": [],
   "source": [
    "std22 = np.empty((n_forecast, 3))\n",
    "for i in range(n_forecast):\n",
    "    std22[i,;]=np.std(r,iloc[(2000+i-22):(2000+i)],axis=0,ddof=1)\n",
    "std22\n",
    "    "
   ]
  },
  {
   "cell_type": "code",
   "execution_count": null,
   "metadata": {},
   "outputs": [],
   "source": [
    "#Strategy 3\n",
    "t1 = 1 / std22\n",
    "t2 = np.sum(t1, axis=1)\n",
    "w = t1 / t2.reshape(-1,1)\n",
    "r_invp_ret = np.sum(r_fore.values * w, axis = 1)\n",
    "\n",
    "mn_invp_ret = np.mean(r_invp_ret, axis=0)\n",
    "sd_invp_ret = np.std(r_invp_ret, axis=0, ddof=1)\n",
    "print(mn_invp_ret)\n",
    "print(sd_invp_ret)"
   ]
  },
  {
   "cell_type": "code",
   "execution_count": 61,
   "metadata": {},
   "outputs": [
    {
     "ename": "NameError",
     "evalue": "name 'f_TLS' is not defined",
     "output_type": "error",
     "traceback": [
      "\u001b[0;31m---------------------------------------------------------------------------\u001b[0m",
      "\u001b[0;31mNameError\u001b[0m                                 Traceback (most recent call last)",
      "\u001b[0;32m<ipython-input-61-cb787eee6a1d>\u001b[0m in \u001b[0;36m<module>\u001b[0;34m\u001b[0m\n\u001b[1;32m      2\u001b[0m \u001b[0;34m\u001b[0m\u001b[0m\n\u001b[1;32m      3\u001b[0m \u001b[0mf_all\u001b[0m \u001b[0;34m=\u001b[0m \u001b[0mnp\u001b[0m\u001b[0;34m.\u001b[0m\u001b[0mempty\u001b[0m\u001b[0;34m(\u001b[0m\u001b[0;34m(\u001b[0m\u001b[0mn_forecast\u001b[0m\u001b[0;34m,\u001b[0m \u001b[0;36m5\u001b[0m\u001b[0;34m,\u001b[0m \u001b[0;36m3\u001b[0m\u001b[0;34m)\u001b[0m\u001b[0;34m)\u001b[0m\u001b[0;34m\u001b[0m\u001b[0;34m\u001b[0m\u001b[0m\n\u001b[0;32m----> 4\u001b[0;31m \u001b[0mf_all\u001b[0m\u001b[0;34m[\u001b[0m\u001b[0;34m:\u001b[0m\u001b[0;34m,\u001b[0m \u001b[0;34m:\u001b[0m\u001b[0;34m,\u001b[0m \u001b[0;36m0\u001b[0m\u001b[0;34m]\u001b[0m \u001b[0;34m=\u001b[0m \u001b[0mf_TLS\u001b[0m\u001b[0;34m\u001b[0m\u001b[0;34m\u001b[0m\u001b[0m\n\u001b[0m\u001b[1;32m      5\u001b[0m \u001b[0mf_all\u001b[0m\u001b[0;34m[\u001b[0m\u001b[0;34m:\u001b[0m\u001b[0;34m,\u001b[0m \u001b[0;34m:\u001b[0m\u001b[0;34m,\u001b[0m \u001b[0;36m1\u001b[0m\u001b[0;34m]\u001b[0m \u001b[0;34m=\u001b[0m \u001b[0mf_WES\u001b[0m\u001b[0;34m\u001b[0m\u001b[0;34m\u001b[0m\u001b[0m\n\u001b[1;32m      6\u001b[0m \u001b[0mf_all\u001b[0m\u001b[0;34m[\u001b[0m\u001b[0;34m:\u001b[0m\u001b[0;34m,\u001b[0m \u001b[0;34m:\u001b[0m\u001b[0;34m,\u001b[0m \u001b[0;36m2\u001b[0m\u001b[0;34m]\u001b[0m \u001b[0;34m=\u001b[0m \u001b[0mf_CPU\u001b[0m\u001b[0;34m\u001b[0m\u001b[0;34m\u001b[0m\u001b[0m\n",
      "\u001b[0;31mNameError\u001b[0m: name 'f_TLS' is not defined"
     ]
    }
   ],
   "source": [
    "#Strategy 2\n",
    "\n",
    "f_all = np.empty((n_forecast, 5, 3))\n",
    "f_all[:, :, 0] = f_TLS\n",
    "f_all[:, :, 1] = f_WES\n",
    "f_all[:, :, 2] = f_CPU\n",
    "\n",
    "r_prop_ret = np.empty((n_forecast, 5))\n",
    "w = np.empty((n_forecast, 3))\n",
    "for i in range(5):\n",
    "    r_sum = np.sum(f_all[:, i, :], axis=1)\n",
    "    w = f_all[:, i, :] / r_sum.reshape(-1, 1)\n",
    "    r_prop_ret[:, i] = np.sum(r_fore.values * w, axis=1)\n",
    "mn_prop_ret = np.mean(r_prop_ret, axis=0)\n",
    "sd_prop_ret = np.std(r_prop_ret, axis=0, ddof=1)\n",
    "print(mn_prop_ret)\n",
    "print(sd_prop_ret)"
   ]
  },
  {
   "cell_type": "code",
   "execution_count": null,
   "metadata": {},
   "outputs": [],
   "source": [
    "p_mn = np.hstack((mn_eq_wt, mn_prop_ret, mn_invp_ret))\n",
    "p_sd = np.hstack((sd_eq_wt, sd_prop_ret, sd_invp_ret))\n",
    "tbl_port=pd.DataFrame(np.vstack((p_mn,p_sd)), index = ('mean return', 'standard deviation'),\n",
    "                                              columns = ('Equal Weight', 'FR_Naive','FR_15days','FR_ARMA11','FR_Reg','FR_FM','Inversely SD'))\n",
    "tbl_port.loc['mean/sd',:]=tbl_port.loc['mean return']/tbl_port.loc['standard deviation']\n",
    "tbl_port                                "
   ]
  },
  {
   "cell_type": "code",
   "execution_count": null,
   "metadata": {},
   "outputs": [],
   "source": [
    "pd.DataFrame.max(tbl_port.iloc[[0,2]:],axis=1)\n",
    "pd.DataFrame.min(tbl.port.iloc[1,:])"
   ]
  }
 ],
 "metadata": {
  "kernelspec": {
   "display_name": "Python 3",
   "language": "python",
   "name": "python3"
  },
  "language_info": {
   "codemirror_mode": {
    "name": "ipython",
    "version": 3
   },
   "file_extension": ".py",
   "mimetype": "text/x-python",
   "name": "python",
   "nbconvert_exporter": "python",
   "pygments_lexer": "ipython3",
   "version": "3.8.5"
  }
 },
 "nbformat": 4,
 "nbformat_minor": 5
}
